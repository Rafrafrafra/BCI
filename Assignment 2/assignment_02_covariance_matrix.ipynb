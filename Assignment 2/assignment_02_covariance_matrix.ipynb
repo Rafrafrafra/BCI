{
 "cells": [
  {
   "cell_type": "markdown",
   "metadata": {},
   "source": [
    "# Covariance matrix\n",
    "\n",
    "> A serious attempt at all the assignments is mandatory to grant access to the final exam. Refer to the course manual for more details (section *Overview* on Brightspace). \n",
    "\n",
    "> Please add today's topic to your knowledge graph.\n",
    "\n",
    "**Learning goals:**\n",
    "- Refresh background knowledge of covariance matrices;\n",
    "- Be able to compute covariance matrices;\n",
    "- Understand the eigen decomposition of covariance matrices and how eigenvalues and eigenvectors relate to the underlying data distribution;\n",
    "- Understand the limitations of estimating covariance matrices from empirical data;\n",
    "- Understand the solutions to the limitations.\n",
    "\n",
    "**Solutions file:**\n",
    "\n",
    "For this assignment, a solutions file will be released after the deadline.\n"
   ]
  },
  {
   "cell_type": "code",
   "execution_count": 3,
   "metadata": {},
   "outputs": [],
   "source": [
    "import matplotlib.pyplot as plt\n",
    "import numpy as np\n",
    "import seaborn as sns\n",
    "from sklearn.covariance import shrunk_covariance"
   ]
  },
  {
   "cell_type": "markdown",
   "metadata": {},
   "source": [
    "## Exercise 1: inspect 2D data\n",
    "Below we provide a function `generate_data()` to generate data from a multivariate normal distribution given a mean and covariance matrix. \n",
    "1. Inspect how we create this data;\n",
    "1. Visualize the data by plotting a scatter plot (`plt.scatter()`);\n",
    "1. Visualize the data by plotting two histograms (`plt.hist()` in separate plots or using `plt.subplots()`);\n",
    "1. Play around by changing the properties of the data (i.e., its mean and covariance). Inspect how the data change when changing the means, and inspect how the data change when changing the entries in the covariance matrix.\n",
    "1. To brush up your knowledge about covariance matrices, you might want to watch [this](https://www.youtube.com/watch?v=G16c2ZODcg8) video. On the difference between covariance and correlation, [this](https://www.youtube.com/watch?v=KDw3hC2YNFc) is a good resource. "
   ]
  },
  {
   "cell_type": "code",
   "execution_count": 4,
   "metadata": {},
   "outputs": [],
   "source": [
    "def generate_data(N_samples=300, cov=[[2, 1], [1, 2]], mean=[0, 5]):\n",
    "    X = np.random.multivariate_normal(mean, cov, N_samples)\n",
    "    return X"
   ]
  },
  {
   "cell_type": "code",
   "execution_count": 5,
   "metadata": {},
   "outputs": [],
   "source": [
    "np.random.seed(42) # ensures replicable results\n",
    "X = generate_data()"
   ]
  },
  {
   "cell_type": "code",
   "execution_count": 27,
   "metadata": {},
   "outputs": [
    {
     "data": {
      "text/plain": [
       "<matplotlib.collections.PathCollection at 0x2100d838b80>"
      ]
     },
     "execution_count": 27,
     "metadata": {},
     "output_type": "execute_result"
    },
    {
     "data": {
      "image/png": "[encoded data removed]",
      "text/plain": [
       "<Figure size 640x480 with 1 Axes>"
      ]
     },
     "metadata": {},
     "output_type": "display_data"
    }
   ],
   "source": [
    "# Answer here\n",
    "plt.scatter(X[0], X[1])\n",
    "\n"
   ]
  },
  {
   "cell_type": "code",
   "execution_count": 28,
   "metadata": {},
   "outputs": [
    {
     "data": {
      "text/plain": [
       "(array([[ 0.,  0.,  7., 22., 48., 64., 40., 15.,  3.,  1.],\n",
       "        [ 0.,  0., 11., 29., 53., 49., 46., 11.,  1.,  0.],\n",
       "        [ 0.,  3.,  8., 33., 49., 51., 31., 19.,  4.,  2.],\n",
       "        [ 0.,  0.,  6., 23., 47., 60., 46., 16.,  2.,  0.],\n",
       "        [ 0.,  1., 13., 29., 48., 42., 38., 22.,  6.,  1.],\n",
       "        [ 0.,  1.,  9., 16., 64., 49., 36., 20.,  5.,  0.],\n",
       "        [ 1.,  1.,  8., 23., 44., 61., 37., 15.,  6.,  4.],\n",
       "        [ 0.,  1.,  3., 27., 51., 56., 42., 13.,  7.,  0.],\n",
       "        [ 0.,  1.,  6., 19., 46., 68., 39., 18.,  3.,  0.],\n",
       "        [ 0.,  1.,  6., 15., 53., 61., 43., 18.,  3.,  0.],\n",
       "        [ 0.,  2.,  9., 29., 53., 49., 42., 12.,  3.,  1.],\n",
       "        [ 1.,  2., 12., 23., 41., 51., 45., 20.,  5.,  0.],\n",
       "        [ 0.,  1.,  6., 17., 57., 59., 41., 12.,  6.,  1.],\n",
       "        [ 0.,  0.,  3., 26., 44., 64., 41., 19.,  2.,  1.],\n",
       "        [ 0.,  0.,  8., 20., 53., 64., 28., 22.,  5.,  0.],\n",
       "        [ 1.,  2.,  8., 28., 44., 55., 43., 17.,  2.,  0.],\n",
       "        [ 0.,  1.,  8., 26., 48., 69., 30., 11.,  6.,  1.],\n",
       "        [ 0.,  3., 10., 18., 51., 59., 41., 13.,  3.,  2.],\n",
       "        [ 0.,  1.,  8., 20., 63., 49., 44., 12.,  3.,  0.],\n",
       "        [ 0.,  1., 14., 18., 48., 50., 36., 23.,  8.,  2.],\n",
       "        [ 0.,  2.,  4., 22., 58., 49., 42., 23.,  0.,  0.],\n",
       "        [ 0.,  1., 11., 23., 43., 59., 48., 15.,  0.,  0.],\n",
       "        [ 0.,  1.,  7., 19., 56., 63., 33., 13.,  8.,  0.],\n",
       "        [ 0.,  0.,  5., 37., 42., 62., 40.,  9.,  5.,  0.],\n",
       "        [ 0.,  1.,  6., 18., 63., 54., 47.,  9.,  2.,  0.],\n",
       "        [ 1.,  3.,  8., 21., 56., 55., 31., 15.,  8.,  2.],\n",
       "        [ 0.,  5.,  7., 22., 48., 73., 33., 10.,  1.,  1.],\n",
       "        [ 0.,  0.,  6., 23., 45., 63., 42., 18.,  3.,  0.],\n",
       "        [ 0.,  4., 12., 27., 45., 41., 45., 18.,  8.,  0.],\n",
       "        [ 0.,  1.,  6., 27., 54., 61., 32., 17.,  2.,  0.],\n",
       "        [ 0.,  1.,  9., 25., 58., 56., 28., 20.,  2.,  1.],\n",
       "        [ 0.,  1., 14., 19., 53., 51., 39., 18.,  4.,  1.],\n",
       "        [ 0.,  2.,  8., 18., 53., 48., 47., 18.,  6.,  0.],\n",
       "        [ 0.,  0., 16., 32., 48., 41., 39., 16.,  7.,  1.],\n",
       "        [ 1.,  1.,  5., 29., 47., 49., 42., 22.,  2.,  2.],\n",
       "        [ 1.,  5.,  7., 25., 42., 58., 35., 23.,  4.,  0.],\n",
       "        [ 0.,  1.,  7., 25., 54., 57., 40., 15.,  1.,  0.],\n",
       "        [ 0.,  3., 10., 33., 51., 45., 37., 16.,  3.,  2.],\n",
       "        [ 0.,  3.,  6., 28., 45., 55., 49., 11.,  3.,  0.],\n",
       "        [ 0.,  1.,  8., 32., 49., 46., 38., 21.,  4.,  1.],\n",
       "        [ 0.,  0., 14., 20., 47., 50., 48., 18.,  2.,  1.],\n",
       "        [ 0.,  2.,  5., 22., 53., 55., 40., 19.,  4.,  0.],\n",
       "        [ 0.,  2.,  7., 30., 32., 51., 51., 26.,  1.,  0.],\n",
       "        [ 0.,  1.,  8., 39., 43., 54., 34., 16.,  5.,  0.],\n",
       "        [ 0.,  1., 10., 24., 42., 60., 44., 16.,  2.,  1.],\n",
       "        [ 0.,  0.,  8., 24., 50., 57., 45., 14.,  2.,  0.],\n",
       "        [ 0.,  0., 11., 20., 49., 58., 37., 21.,  3.,  1.],\n",
       "        [ 0.,  2.,  7., 26., 52., 49., 41., 17.,  6.,  0.],\n",
       "        [ 0.,  1.,  8., 28., 63., 57., 21., 18.,  3.,  1.],\n",
       "        [ 0.,  2.,  9., 17., 47., 65., 44., 13.,  2.,  1.],\n",
       "        [ 0.,  2., 11., 25., 48., 42., 40., 28.,  4.,  0.],\n",
       "        [ 0.,  2.,  3., 22., 54., 68., 35., 12.,  4.,  0.],\n",
       "        [ 0.,  3., 10., 31., 47., 49., 40., 18.,  1.,  1.],\n",
       "        [ 1.,  1.,  8., 20., 52., 65., 31., 15.,  6.,  1.],\n",
       "        [ 0.,  0.,  8., 25., 54., 58., 36., 16.,  3.,  0.],\n",
       "        [ 1.,  1.,  7., 24., 50., 56., 44., 14.,  3.,  0.],\n",
       "        [ 0.,  0.,  7., 18., 53., 61., 38., 19.,  3.,  1.],\n",
       "        [ 0.,  3.,  7., 29., 38., 53., 51., 14.,  5.,  0.],\n",
       "        [ 0.,  2.,  8., 28., 43., 57., 38., 15.,  9.,  0.],\n",
       "        [ 0.,  4.,  5., 22., 38., 59., 39., 18., 14.,  1.],\n",
       "        [ 0.,  1.,  4., 24., 58., 53., 43., 14.,  3.,  0.],\n",
       "        [ 0.,  2.,  8., 16., 62., 46., 50., 13.,  1.,  2.],\n",
       "        [ 0.,  0.,  8., 22., 44., 59., 44., 19.,  2.,  2.],\n",
       "        [ 1.,  4.,  7., 21., 46., 51., 48., 19.,  3.,  0.],\n",
       "        [ 1.,  1.,  9., 21., 33., 73., 44., 15.,  3.,  0.],\n",
       "        [ 0.,  0., 17., 18., 49., 54., 38., 16.,  7.,  1.],\n",
       "        [ 0.,  0.,  7., 20., 45., 62., 36., 24.,  5.,  1.],\n",
       "        [ 1.,  1.,  9., 22., 46., 51., 37., 29.,  4.,  0.],\n",
       "        [ 0.,  0., 17., 30., 50., 41., 39., 14.,  6.,  3.],\n",
       "        [ 0.,  3.,  9., 17., 44., 49., 51., 25.,  2.,  0.],\n",
       "        [ 1.,  6.,  6., 41., 33., 48., 43., 18.,  3.,  1.],\n",
       "        [ 0.,  5.,  5., 27., 39., 60., 43., 12.,  7.,  2.],\n",
       "        [ 1.,  2.,  9., 32., 43., 47., 32., 23., 10.,  1.],\n",
       "        [ 0.,  2., 10., 18., 55., 59., 36., 14.,  5.,  1.],\n",
       "        [ 1.,  1., 11., 22., 44., 69., 32., 10.,  8.,  2.],\n",
       "        [ 0.,  3.,  3., 33., 52., 59., 30., 14.,  6.,  0.],\n",
       "        [ 0.,  1.,  7., 24., 45., 68., 35., 15.,  5.,  0.],\n",
       "        [ 1.,  4.,  8., 28., 45., 51., 47., 13.,  2.,  1.],\n",
       "        [ 0.,  2.,  7., 23., 48., 56., 33., 25.,  6.,  0.],\n",
       "        [ 0.,  3.,  5., 28., 53., 54., 38., 15.,  4.,  0.],\n",
       "        [ 1.,  3., 10., 28., 43., 51., 46., 12.,  4.,  2.],\n",
       "        [ 0.,  3.,  8., 23., 56., 48., 39., 19.,  3.,  1.],\n",
       "        [ 2.,  5.,  9., 23., 49., 46., 45., 17.,  3.,  1.],\n",
       "        [ 0.,  1.,  7., 16., 52., 64., 41., 16.,  3.,  0.],\n",
       "        [ 0.,  0.,  7., 26., 56., 57., 34., 17.,  2.,  1.],\n",
       "        [ 0.,  0.,  4., 26., 50., 53., 44., 16.,  6.,  1.],\n",
       "        [ 0.,  4.,  5., 26., 38., 56., 46., 18.,  6.,  1.],\n",
       "        [ 0.,  0., 10., 22., 45., 67., 41.,  8.,  5.,  2.],\n",
       "        [ 0.,  1.,  4., 21., 46., 70., 45., 10.,  3.,  0.],\n",
       "        [ 0.,  1.,  4., 22., 55., 65., 38., 12.,  2.,  1.],\n",
       "        [ 0.,  2., 12., 24., 49., 56., 35., 17.,  4.,  1.],\n",
       "        [ 0.,  0.,  9., 20., 47., 60., 47., 13.,  4.,  0.],\n",
       "        [ 0.,  3., 13., 22., 49., 58., 35., 15.,  3.,  2.],\n",
       "        [ 0.,  0.,  6., 30., 39., 61., 47., 11.,  5.,  1.],\n",
       "        [ 0.,  1.,  8., 24., 40., 63., 44., 16.,  4.,  0.],\n",
       "        [ 0.,  3.,  8., 30., 51., 45., 43., 13.,  5.,  2.],\n",
       "        [ 0.,  3., 11., 21., 33., 61., 41., 26.,  3.,  1.],\n",
       "        [ 0.,  1.,  6., 34., 46., 62., 33., 15.,  3.,  0.],\n",
       "        [ 0.,  1.,  6., 15., 63., 60., 34., 18.,  2.,  1.],\n",
       "        [ 0.,  5., 12., 25., 43., 49., 39., 23.,  4.,  0.]]),\n",
       " array([-38.31316004, -31.07331876, -23.83347748, -16.5936362 ,\n",
       "         -9.35379492,  -2.11395364,   5.12588764,  12.36572893,\n",
       "         19.60557021,  26.84541149,  34.08525277]),\n",
       " <a list of 100 BarContainer objects>)"
      ]
     },
     "execution_count": 28,
     "metadata": {},
     "output_type": "execute_result"
    },
    {
     "data": {
      "image/png": "[encoded data removed]",
      "text/plain": [
       "<Figure size 640x480 with 1 Axes>"
      ]
     },
     "metadata": {},
     "output_type": "display_data"
    }
   ],
   "source": [
    "plt.hist(X)"
   ]
  },
  {
   "cell_type": "code",
   "execution_count": null,
   "metadata": {},
   "outputs": [],
   "source": []
  },
  {
   "cell_type": "code",
   "execution_count": null,
   "metadata": {},
   "outputs": [],
   "source": []
  },
  {
   "cell_type": "code",
   "execution_count": null,
   "metadata": {},
   "outputs": [],
   "source": []
  },
  {
   "cell_type": "code",
   "execution_count": null,
   "metadata": {},
   "outputs": [],
   "source": []
  },
  {
   "cell_type": "markdown",
   "metadata": {},
   "source": [
    "## Exercise 2: covariance estimator for n-dimensional data\n",
    "Below we provide a function `generate_covariance()` that samples a covariance matrix. Then, a resulting covariance matrix is fed to `generate_data()` to generate data.\n",
    "1. Implement a function `estimate_covariance(X)` that calculates the covariance matrix for a given data set $X$ of size $(N_{samples} \\times D_{features})$. You can test your function with the data set returned from the function `generate_data()`;\n",
    "1. Compare your resulting covariance matrix with the corresponding built-in-function in the \"Numpy\" package (`np.cov()`) and the ground truth covariance. Please carefully check the documentation of the numpy function for the definition of the input;\n",
    "1. Visualize the three covariance matrices e.g. with the function `plt.imshow()` from the \"Matplotlib\" package, using separate subplots with `plt.subplots()`. \n",
    "\n",
    "**Hint**: if you're running into trouble with the implementation of covariance estimation, inspect the shape of your output using `var.shape` and compare it with your expectations for a desired input of $N_{samples} \\times  D_{features}$."
   ]
  },
  {
   "cell_type": "code",
   "execution_count": 18,
   "metadata": {},
   "outputs": [],
   "source": [
    "def generate_covariance(D_features):\n",
    "    tmp = np.random.randn(D_features, D_features)\n",
    "    cov = np.dot(tmp, tmp.transpose())\n",
    "    return cov"
   ]
  },
  {
   "cell_type": "code",
   "execution_count": 19,
   "metadata": {},
   "outputs": [],
   "source": [
    "np.random.seed(42) # ensures replicable results\n",
    "N_samples = 200\n",
    "D_features = 100\n",
    "cov_true = generate_covariance(D_features)\n",
    "X = generate_data(N_samples, cov_true, np.zeros(D_features))"
   ]
  },
  {
   "cell_type": "code",
   "execution_count": 20,
   "metadata": {},
   "outputs": [],
   "source": [
    "# Answer here"
   ]
  },
  {
   "cell_type": "markdown",
   "metadata": {},
   "source": [
    "## (Optional) Exercise 3: eigenvectors of the covariance matrix\n",
    "In this (optional) exercise, we want to shed light on the relationship between the eigenvalues / eigenvectors of the covariance matrix and the shape of the normal distribution in a 2D scenario. \n",
    "1. Visualize a randomly sampled normal distribution (e.g. by using the seaborn function `fig = sns.jointplot()`); \n",
    "1. Calculate eigenvalues and eigenvectors of the true covariance matrix using `np.linalg.eig()`;\n",
    "1. Draw the estimated eigenvectors multiplied by the square root of the corresponding eigenvalues in the same plot. For this you could use seaborn's `annotate()` function; use something along the lines of this to add the arrows to your plot:\n",
    "```python \n",
    "                fig.ax_joint.annotate('', xytext=(0, 0), xy=eigvects[:, i] * np.sqrt(eigvals[i]), arrowprops=dict(facecolor='red', width=2.0))\n",
    "```\n",
    "1. What do you observe regarding the size of the eigenvalues and the shape of the eigenvectors (i.e., refering to the covariance matrix)?\n",
    "1. If the eigenvalues are over (or underestimated), what does this mean for the estimated shape of the normal distribution (i.e., its covraince matrix)?"
   ]
  },
  {
   "cell_type": "code",
   "execution_count": null,
   "metadata": {},
   "outputs": [],
   "source": [
    "np.random.seed(3) # ensures replicable results\n",
    "D_features = 2\n",
    "N_samples = 500\n",
    "cov_true = generate_covariance(D_features)\n",
    "X = generate_data(N_samples, cov_true, np.zeros(D_features))"
   ]
  },
  {
   "cell_type": "code",
   "execution_count": null,
   "metadata": {},
   "outputs": [],
   "source": [
    "# Answer here"
   ]
  },
  {
   "cell_type": "markdown",
   "metadata": {},
   "source": [
    "## Exercise 4: eigenvalue spectrum for various sample sizes\n",
    "For a fixed number of features $D_{features} = 100$, vary the number of samples $N_{samples}$ and implement the following steps:\n",
    " 1. Estimate the covariance matrix from the generated samples X;\n",
    " 2. Calculate the eigenvalues of the covariance matrix;\n",
    " 3. Sort the eigenvalues in descending order;\n",
    " 4. Plot the eigenvalues as a function of their order/rank (called eigenvalue spectrum).\n",
    "\n",
    "This procedure should be repeated for the given sample sizes $N_{samples}=[20,50,100,300,1000]$ and all eigenvalue spectra shown in one figure. For comparison, repeat the steps (2)-(4) also for the true covariance matrix and add this eigenvalue spectrum to the created figure. \n",
    "\n",
    "1. What do you observe for the largest and smallest estimates of the eigenvalues?\n",
    "1. What do you observe for an increasing number of N_samples?\n",
    "1. Which condition for the N_samples in relation to D_features is necessary to allow an estimation of covariance?\n",
    "1. How can you manipulate your data to avoid this problem, in the case of N_samples < D_features?"
   ]
  },
  {
   "cell_type": "code",
   "execution_count": null,
   "metadata": {},
   "outputs": [],
   "source": [
    "np.random.seed(42) # ensures replicable results\n",
    "D_features = 100\n",
    "N_samples = [20, 50, 100, 300, 1000]\n",
    "cov_true = generate_covariance(D_features)"
   ]
  },
  {
   "cell_type": "code",
   "execution_count": null,
   "metadata": {},
   "outputs": [],
   "source": [
    "# Answer here"
   ]
  },
  {
   "cell_type": "markdown",
   "metadata": {},
   "source": [
    "## Exercise 5 :  Improving covariance estimation by means of regularization\n",
    "You may have observed a systematic error in the eigenvalue estimates, even for $N_{samples} > D_{features}$. Here we investigate a way to compensate for this systematic error such that the estimated spectrum approximates the true spectrum more closely. For that we use regularized estimation of the covariance matrix using a schrinkage parameter. \n",
    "1. Look-up what this shrinkage of the covariance matrix really means, what does it do? Read for instance the sklearn documentation of the function [here](https://scikit-learn.org/stable/modules/covariance.html#shrunk-covariance). We have also added an short summry below.\n",
    "\n",
    "### Shrinkage regularization explained\n",
    "Note: $N$ is used as the number of samples in a dataset and $D$ is the number of features.\n",
    "#### Goal\n",
    "The goal is to find a better estimate of the true covariance matrix. \n",
    "\n",
    "**Why**? With few samples and/or large dimensionality (especially when $N$ < $D$), large eigenvalues are overestimated and small eigenvalues are underestimated (see previous exercise). \n",
    "\n",
    "**How** do we combat this? Squeeze the 'pointy' estimated covariance matrix towards the (scaled) identity matrix (circle in 2D). The amount of regularization (amount of squeezing) is regulated with a scalar parameter $\\gamma$ ∈ [0,1], where 0 is no regularization and 1 means just taking the (scaled) identity matrix. Intuition is shown in the figure below [1].\n",
    "\n",
    "![Shrinkage regularization](data/shrinkage_regularization_covariance_matrix.jpg)\n",
    "\n",
    "Figure: Left: Eigenvalue spectrum of a given covariance matrix (bold line) and eigenvalue spectra of covariance matrices estimated from a finite number of samples drawn ($N= 50,100, 200, 500$) from a corresponding Gaussian distribution. Middle: Data points drawn from a Gaussian distribution (gray dots; $D = 200$ dimensions, two dimensions selected for visualization) with true covariance matrix indicated by an orange colored ellipsoid, and estimated covariance matrix in\n",
    "cyan. Right: An approximation of the true covariance matrix can be obtained as a linear interpolation between the empirical covariance matrix and a sphere of appropriate size [1].\n",
    "\n",
    "##### Formula\n",
    "$\\begin{equation}\n",
    "\\mathbf{\\tilde{\\Sigma}}(\\gamma):=(1-\\gamma) \\mathbf{\\hat{\\Sigma}}+\\gamma \\nu \\mathbf{I}\n",
    "\\end{equation}$ \n",
    "Where, $\\mathbf{\\tilde{\\Sigma}}$ ($D, D$) is the new regularized/shrunk covariance matrix of the data, $\\gamma$ (scalar) (0 ≤ $\\gamma$ ≤ 1) is\n",
    "the shrinkage parameter, $\\mathbf{\\hat{\\Sigma}}$ ($D, D$) is the estimated covariance matrix of the data, $\\nu$ (scalar) is the average eigenvalue [trace](https://en.wikipedia.org/wiki/Trace_(linear_algebra)) of estimated/empirical covariance matrix $\\mathbf{\\hat{\\Sigma}}$, and $\\mathbf{I}$ is the identity matrix.\n",
    "\n",
    "[1] *Blankertz, B., Lemm, S., Treder, M., Haufe, S., & Müller, K. R. (2011). Single-trial analysis and classification of ERP components—a tutorial. NeuroImage, 56(2), 814-825*.\n",
    "\n",
    "### Exercises\n",
    "To work with shrinkage regularization we can use the `shrunk_covariance()` function from the \"sklearn\" library. We have implemented a function below that uses that function. Your task now is to:\n",
    "\n",
    "2. Estimate the empirical covariance matrix with and without regularization;\n",
    "3. For the *true*, the *empirical*, and the *regularized* covariance matrices, compute the eigenvalue spectrum;\n",
    "4. Plot the eigenvalue spectrums in a single figure;\n",
    "5. Compute the mean squared error between the true and empirical, and the true and regularized covariance matrix (e.g., by means of the eigenvalue spectrum);\n",
    "6. Report your observations."
   ]
  },
  {
   "cell_type": "code",
   "execution_count": null,
   "metadata": {},
   "outputs": [],
   "source": [
    "def estimate_regularized_covariance(X, shrink_param=0.3):\n",
    "    cov = np.cov(X.T)\n",
    "    regularized_cov = shrunk_covariance(cov, shrink_param)\n",
    "    return regularized_cov"
   ]
  },
  {
   "cell_type": "code",
   "execution_count": null,
   "metadata": {},
   "outputs": [],
   "source": [
    "np.random.seed(42) # ensures replicable results\n",
    "N_samples = 120\n",
    "cov_true = generate_covariance(D_features)\n",
    "X = generate_data(N_samples, cov_true, np.zeros(D_features))"
   ]
  },
  {
   "cell_type": "code",
   "execution_count": null,
   "metadata": {},
   "outputs": [],
   "source": [
    "# Answer here"
   ]
  },
  {
   "cell_type": "markdown",
   "metadata": {},
   "source": [
    "## Exercise 0: Who did what?\n",
    "Please provide a short description on who contributed what to your submission."
   ]
  },
  {
   "cell_type": "markdown",
   "metadata": {},
   "source": [
    "> Answer here"
   ]
  }
 ],
 "metadata": {
  "kernelspec": {
   "display_name": "bci-BKI323",
   "language": "python",
   "name": "python3"
  },
  "language_info": {
   "codemirror_mode": {
    "name": "ipython",
    "version": 3
   },
   "file_extension": ".py",
   "mimetype": "text/x-python",
   "name": "python",
   "nbconvert_exporter": "python",
   "pygments_lexer": "ipython3",
   "version": "3.10.18"
  }
 },
 "nbformat": 4,
 "nbformat_minor": 4
}
