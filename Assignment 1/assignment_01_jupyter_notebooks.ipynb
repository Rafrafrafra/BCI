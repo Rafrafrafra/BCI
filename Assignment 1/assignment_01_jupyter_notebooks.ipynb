{
 "cells": [
  {
   "cell_type": "markdown",
   "metadata": {},
   "source": [
    "# Introduction to Jupyter notebooks\n",
    "**Submission deadline:**\n",
    "\n",
    "You do not need to submit this assignment. Note, this assignment is a passive assignment. Try understanding the steps involved by executing and inspecting the (code) cells one by one and reading the text clearly. Later assignments will build on this knowledge and we will expect you to know it.\n",
    "\n",
    "**Learning goals:**\n",
    "- Get familiar with Jupyter notebooks;\n",
    "- Get familiar with python;\n",
    "- Get familiar with numpy.\n"
   ]
  },
  {
   "cell_type": "markdown",
   "metadata": {},
   "source": [
    "## 1. Jupyter notebooks\n",
    "A good resource to understand Jupyter notebooks is this [DataCamp tutorial](https://www.datacamp.com/community/tutorials/tutorial-jupyter-notebook?utm_source=adwords_ppc&utm_campaignid=898687156&utm_adgroupid=48947256715&utm_device=c&utm_keyword=&utm_matchtype=b&utm_network=g&utm_adpostion=&utm_creative=332602034352&utm_targetid=dsa-473406581035&utm_loc_interest_ms=&utm_loc_physical_ms=1010397&gclid=CjwKCAjwnK36BRBVEiwAsMT8WD_WtNpLsPYARzHN-tH2fbxSlGhyMkFLnj-RcJz9SqyuRR6HVGa2HxoCpJcQAvD_BwE). Basiclly, Jupyter notebooks started as a project for the programming languages Julia, Python, and R, to enable coders to have an intuitive framework that can combine text, equations, and code. It is an extension of IPython, and is used a lot within the data science community. \n",
    "\n",
    "A Jupyter notebook is organized in cells. There are two main types of cells: \n",
    "- code cells;\n",
    "- markdown cells.\n",
    "  \n",
    "To change the type of a cell, select `Cell->Cell Type->Code/Markdown`, or use the hotkeys ('<b>Y</b>' for code, '<b>M</b>' for markdown; make sure to select the cell itself and not its contents).\n",
    "\n",
    "Each cell can be run separately and in any order you want. To run a cell you need to activate it by for example clicking on it. A <font color='green'>**green frame** means a cell is editable and active</font>, <font color='blue'>a **blue frame** means a cell is active and/or running</font>. To edit markdown cells you need to double click, which opens the source behind the displayed text. Try it on this cell! \n",
    "\n",
    "There are (at least) three ways to run the active cell.\n",
    "* Click on `Cell->RunCell` in the menu above;\n",
    "* Press **`CTRL+Enter`** and the marked cell is executed.\n",
    "* Press **`SHIFT+Enter`** and the marked cell is executed and the next cell is selected.\n",
    "\n",
    "The output of each cell is shown below the cell. The **number next to the cell on the left side** shows in which order the cells were run. \n",
    "\n",
    "`[*]` means that a cell is currently running. You can also verify this with the grey dot in the upper right corner of the notebook, which shows the state of the Python kernel. If the circle is filled grey, the kernel is executing something. If the circle is not filled (which should currently be the case), the kernel is ready to run the next cell. Note that you can queue multiple cells, and you don't have to wait for one cell to be finished before executing another! \n",
    "\n",
    "Because a Jupyer notebook is an interactive environment, and cells can be run in arbitrary order, be very cautious that things can get ugly quite quickly. For instance, the kernel keeps a workspace with all the variables that you created thus far. Make it a habit to clean the kernel now and then by executing `Kernel->Restart & Clean Output`, and check now and then whether your notebook runs from top to bottom by executing `Kernal->Restart & Run All`.\n",
    "\n",
    "From time to time you should save your notebook (the title of this page tells you when you saved the last time).\n",
    "You can also revert the notebook to the last checkpoint via `File->Revert to Checkpoint`.\n",
    " \n",
    "To terminate the notebook, you can either choose `File->Close And Halt`, terminate the notebook server in the shell\n",
    "(hitting `CTRL+C` twice) or just close the tab \n",
    "\n",
    "To hand in assignments, you can export notebooks with `File->Download as->Notebook (.ipynb)`. For other use cases, you can also use `File->Download as->Python (.py)`, this will you give you a python script with cells from top to bottom (markdown cells will only be comments). You can also dump it as a pdf `File->Download as->PDF via LaTeX (pdf)`. \n",
    "\n",
    "In case your notebook freezes or stops reacting you can *interrupt* the kernel (`Kernel->interrupt`) and it will stop executing the current cell. If you want to rerun your notebook (clear all output and delete all variables) you can select `Kernel-> Restart and Run All`"
   ]
  },
  {
   "cell_type": "markdown",
   "metadata": {},
   "source": [
    "## 2. Markdown\n",
    "Markdown is a text formatting language based on few simple symbols that the Jupyter Notebooks use to present text in a formatted way. Now *double click* into *this* cell and look at the unformatted Markdown code. For example, you use \\# to create headings. Just put more \\# after each other to create headings of different sizes.\n",
    "\n",
    "Markdown cells will be presented *formatted* in the Jupyter Notebook when you run the cell. By double-clicking you can edit them and see the original formatting language. \n",
    "\n",
    "### 2.1 Bullet points\n",
    "You can write lists with 'bullet points': \n",
    "* you can create bullet points with \\*\n",
    "* a bullet point with sub bullet points\n",
    "  * and it turtles all\n",
    "    * the way down\n",
    "      * note that indentation does the magic \n",
    "\n",
    "### 2.2 Bullet numbers\n",
    "You can also use 'bullet numbers':\n",
    "1. they count\n",
    "1. down\n",
    "1. numbers\n",
    "1. note that in the unformatted markdown you do not need to count yourself\n",
    "\n",
    "### 2.3 LaTex\n",
    "You can write formulas into Markdown cells using standard LaTeX formula notation. Do so by surrounding the equations by `\\$...\\$`. For instance:\n",
    "$ e^{i \\pi} + 1 = 0 $\n",
    "\n",
    "### 2.4 Images\n",
    "You can also include images (e.g. scans of handwritten notes) into a markdown cell by using `![Image title](local_image.extension)`. When running the Markdown cell with the image, the image must exist locally as a file. \n",
    "\n",
    "### 2.5 (Pseudo) code\n",
    "In your assignment comments you may want to talk about parts of your code or function names, i.e. use code for illustrative purposes. When talking about `my_function()` within text as in this sentence, you can format `my_function()` as *code* by surrounding it with backtick quotes: \\`...\\`.\n",
    "\n",
    "If you want to include a block of code in a Markdown cell, you just need to place *4 (extra) spaces* in front of each line:\n",
    "\n",
    "    def fibonacci(n):\n",
    "        \"\"\"Returns the n-th fibonacci number.\"\"\"\n",
    "        if n in (0, 1):\n",
    "            return n\n",
    "        elif n > 1:\n",
    "            return fibonacci(n - 1) + fibonacci(n - 2)\n",
    "        else:\n",
    "            raise ArithmeticError('n must be a non-negative int')\n",
    "\n"
   ]
  },
  {
   "cell_type": "markdown",
   "metadata": {},
   "source": [
    "## 3. Code\n",
    "Of course, we use Jupyter notebooks to do some coding. The classic hello world example would go as follows. Execute the cell below."
   ]
  },
  {
   "cell_type": "code",
   "execution_count": 1,
   "metadata": {},
   "outputs": [
    {
     "name": "stdout",
     "output_type": "stream",
     "text": [
      "Hello World!\n"
     ]
    }
   ],
   "source": [
    "print(\"Hello World!\")"
   ]
  },
  {
   "cell_type": "markdown",
   "metadata": {},
   "source": [
    "### 3.1 Print statements"
   ]
  },
  {
   "cell_type": "code",
   "execution_count": 2,
   "metadata": {
    "scrolled": true
   },
   "outputs": [
    {
     "name": "stdout",
     "output_type": "stream",
     "text": [
      "Hello World!\n",
      "I am alive!\n",
      "Remainder when dividing 42 by 23 is 19\n",
      "Variable x is of length 10\n",
      "Variables: first, second, third\n",
      "0.123456789 becomes 0.123\n",
      "The largest number in l equals 9\n"
     ]
    }
   ],
   "source": [
    "# Print statements can help you a lot by printing where you are in the code\n",
    "print(\"Hello World!\")\n",
    "print(\"I am alive!\")\n",
    "\n",
    "# Print statements can take arguments too by using the format method. \n",
    "print(\"Remainder when dividing 42 by 23 is {}\".format(42 % 23))\n",
    "\n",
    "# This is especially usefull for debugging, e.g. to print sizes of variables.\n",
    "x = range(10)\n",
    "print(\"Variable x is of length {}\".format(len(x)))\n",
    "\n",
    "# Multiple arguments is possible too\n",
    "print(\"Variables: {}, {}, {}\".format(\"first\", \"second\", \"third\"))\n",
    "\n",
    "# Printing only few decimal points\n",
    "print(\"0.123456789 becomes {:0.3f}\".format(0.123456789))\n",
    "\n",
    "# Alternatively, you can use F-strings:\n",
    "l = [1,3,5,7,9]\n",
    "print(f'The largest number in l equals {max(l)}')"
   ]
  },
  {
   "cell_type": "markdown",
   "metadata": {},
   "source": [
    "### 3.2 Lists"
   ]
  },
  {
   "cell_type": "code",
   "execution_count": 11,
   "metadata": {},
   "outputs": [
    {
     "name": "stdout",
     "output_type": "stream",
     "text": [
      "[1, 2, 3, 'four', 'five', [6, 7, 8.0]]\n",
      "[1, 2, 3, 'four', 'five', [6, 7, 8.0], [2, 3, 4, 5]]\n",
      "[1, 2, 3, 'four', 'five', [6, 7, 8.0], [2, 3, 4, 5], 6, 7, 8, 9]\n"
     ]
    }
   ],
   "source": [
    "# Lists can take several different objects, i.e., integers, floats, strings, lists, etc.\n",
    "l = [1, 2, 3, 'four', \"five\", [6, 7, 8.0]]\n",
    "print(l)\n",
    "\n",
    "# You can append new items to a list\n",
    "l.append([2, 3, 4, 5])\n",
    "print(l)\n",
    "\n",
    "# or extend the list with other items!\n",
    "l.extend([6, 7, 8, 9])\n",
    "print(l)"
   ]
  },
  {
   "cell_type": "code",
   "execution_count": 12,
   "metadata": {},
   "outputs": [
    {
     "name": "stdout",
     "output_type": "stream",
     "text": [
      "['zero', 2, 3, 'four', 'five', [6, 7, 8.0], [2, 3, 4, 5], 6, 7, 8, 9]\n"
     ]
    }
   ],
   "source": [
    "# You can change items in a list\n",
    "l[0] = \"zero\"\n",
    "print(l)"
   ]
  },
  {
   "cell_type": "code",
   "execution_count": 15,
   "metadata": {},
   "outputs": [
    {
     "name": "stdout",
     "output_type": "stream",
     "text": [
      "First element:  zero\n",
      "Second element:  2\n",
      "Last element:  9\n",
      "Nested element:  7\n",
      "Every element after the first:  [2, 3, 'four', 'five', [6, 7, 8.0], [2, 3, 4, 5], 6, 7, 8, 9]\n",
      "All elements after the first but before the fourth:  [2, 3]\n",
      "Slice of nested elements:  [7, 8.0]\n"
     ]
    }
   ],
   "source": [
    "# Indexing of lists\n",
    "print(\"First element: \", l[0])\n",
    "print(\"Second element: \", l[1])\n",
    "print(\"Last element: \", l[-1])\n",
    "print(\"Nested element: \", l[5][1])\n",
    "\n",
    "# You can also index multiple values at once, which is called a 'slice'\n",
    "print(\"Every element after the first: \", l[1:])\n",
    "print(\"All elements after the first but before the fourth: \", l[1:3])\n",
    "print(\"Slice of nested elements: \", l[5][1:])"
   ]
  },
  {
   "cell_type": "code",
   "execution_count": 18,
   "metadata": {},
   "outputs": [
    {
     "name": "stdout",
     "output_type": "stream",
     "text": [
      "Forwards counting list: [0, 1, 2, 3, 4, 5, 6, 7, 8, 9]\n",
      "Forwards counting list of even numbers: [0, 2, 4, 6, 8]\n",
      "Backwards counting list: [23, 22, 21, 20, 19, 18, 17, 16, 15, 14, 13, 12, 11]\n"
     ]
    }
   ],
   "source": [
    "# Making a list of subsequent numbers is easy in python using the range function!\n",
    "# Note that this function starts counting from 0. Check the documentation at\n",
    "# https://docs.python.org/3/library/stdtypes.html#range to see what each parameter \n",
    "# does and what it returns. Can you figure out why we need the 'list()'?\n",
    "\n",
    "print(\"Forwards counting list:\", list(range(10)))\n",
    "print(\"Forwards counting list of even numbers:\", list(range(0, 10, 2)))\n",
    "print(\"Backwards counting list:\",  list(range(23, 10, -1)))"
   ]
  },
  {
   "cell_type": "markdown",
   "metadata": {},
   "source": [
    "### 3.3 Tuples"
   ]
  },
  {
   "cell_type": "code",
   "execution_count": 19,
   "metadata": {},
   "outputs": [
    {
     "name": "stdout",
     "output_type": "stream",
     "text": [
      "(1, 2, 3, 'four')\n"
     ]
    }
   ],
   "source": [
    "# Tuples can also take several different objects\n",
    "t = (1, 2, 3, \"four\")\n",
    "print(t)"
   ]
  },
  {
   "cell_type": "code",
   "execution_count": 20,
   "metadata": {},
   "outputs": [
    {
     "name": "stdout",
     "output_type": "stream",
     "text": [
      "'tuple' object does not support item assignment\n"
     ]
    }
   ],
   "source": [
    "# Contrary to lists, tuples are immutable, the following gives an error (check out the try-except!)\n",
    "try:\n",
    "    t[1] = 2\n",
    "except Exception as e:\n",
    "    print(e)"
   ]
  },
  {
   "cell_type": "code",
   "execution_count": 21,
   "metadata": {},
   "outputs": [
    {
     "name": "stdout",
     "output_type": "stream",
     "text": [
      "First elelement:  1\n",
      "Second elelement:  2\n",
      "Last elelement:  four\n",
      "A slice:  (2, 3, 'four')\n",
      "Another slice:  (2, 3)\n"
     ]
    }
   ],
   "source": [
    "# Indexing tuples works just like indexing lists!\n",
    "print(\"First elelement: \", t[0])\n",
    "print(\"Second elelement: \", t[1])\n",
    "print(\"Last elelement: \", t[-1])\n",
    "print(\"A slice: \", t[1:])\n",
    "print(\"Another slice: \", t[1:3])"
   ]
  },
  {
   "cell_type": "markdown",
   "metadata": {},
   "source": [
    "### 3.4 Dictionaries"
   ]
  },
  {
   "cell_type": "code",
   "execution_count": 22,
   "metadata": {},
   "outputs": [
    {
     "name": "stdout",
     "output_type": "stream",
     "text": [
      "{'key1': 1, 'key2': 2, 'key3': 'five', 'aList': [1, 2, 3], 'aDict': {'a': 10, 'b': 20}}\n"
     ]
    }
   ],
   "source": [
    "# Dictionaries are key-value pairs and can contain different types of values.\n",
    "d = {'key1': 1, 'key2': 2, \"key3\": \"five\", \"aList\": [1, 2, 3], \"aDict\": {\"a\": 10, \"b\": 20}}\n",
    "print(d)"
   ]
  },
  {
   "cell_type": "code",
   "execution_count": 23,
   "metadata": {},
   "outputs": [
    {
     "name": "stdout",
     "output_type": "stream",
     "text": [
      "{'key1': 1, 'key2': 2, 'key3': 'five', 'aList': [1, 2, 3], 'aDict': {'a': 10, 'b': 20}, 'newKey': 20}\n"
     ]
    }
   ],
   "source": [
    "# Adding new items\n",
    "d[\"newKey\"] = 20\n",
    "print(d)"
   ]
  },
  {
   "cell_type": "code",
   "execution_count": 26,
   "metadata": {},
   "outputs": [
    {
     "name": "stdout",
     "output_type": "stream",
     "text": [
      "{'key1': 1.37, 'key2': 2, 'key3': 'five', 'aList': [1, 2, 3], 'aDict': {'a': 10, 'b': 20}, 'newKey': 20}\n"
     ]
    }
   ],
   "source": [
    "# Updating a value\n",
    "d[\"key1\"] = 1.37\n",
    "print(d)"
   ]
  },
  {
   "cell_type": "code",
   "execution_count": 34,
   "metadata": {},
   "outputs": [
    {
     "name": "stdout",
     "output_type": "stream",
     "text": [
      "A value: 1.37\n",
      "A nested list: [1, 2, 3]\n",
      "A nested list item: 2\n",
      "A nested dictionary: {'a': 10, 'b': 20}\n",
      "A nested dictionary item: 10\n"
     ]
    }
   ],
   "source": [
    "# Indexing dictionaries is done not with indices but with key names!\n",
    "print(\"A value:\", d[\"key1\"])\n",
    "print(\"A nested list:\", d[\"aList\"])\n",
    "print(\"A nested list item:\", d[\"aList\"][1])\n",
    "print(\"A nested dictionary:\", d[\"aDict\"])\n",
    "print(\"A nested dictionary item:\", d[\"aDict\"][\"a\"])"
   ]
  },
  {
   "cell_type": "markdown",
   "metadata": {},
   "source": [
    "### 3.5 Conditionals"
   ]
  },
  {
   "cell_type": "code",
   "execution_count": 28,
   "metadata": {},
   "outputs": [
    {
     "name": "stdout",
     "output_type": "stream",
     "text": [
      "I don't really like carrots.\n"
     ]
    }
   ],
   "source": [
    "# Conditional statements\n",
    "veggy = \"carrot\"\n",
    "mood = \"okay\"\n",
    "if veggy == \"noveggies\" or mood == \"bad\": # note the keyword 'or'\n",
    "    print(\"That's not healthy!\")\n",
    "elif veggy == \"carrot\" and mood == \"good\": # note the keyword 'and'\n",
    "    print(\"I like carrots!\")\n",
    "elif veggy == \"carrot\" and mood == \"okay\":\n",
    "    print(\"I don't really like carrots.\")\n",
    "elif veggy == \"carrot\" and mood == \"bad\":\n",
    "    print(\"I hate carrots.\")\n",
    "else:\n",
    "    print(\"I skip dinner!\")"
   ]
  },
  {
   "cell_type": "markdown",
   "metadata": {},
   "source": [
    "### 3.6 Indentation "
   ]
  },
  {
   "cell_type": "code",
   "execution_count": null,
   "metadata": {},
   "outputs": [],
   "source": [
    "# A: indentation matters\n",
    "if 0 == 1:\n",
    "    print('A: We live in a world of arithmetic pain')\n",
    "print('A: Math is not broken, all is well')\n",
    "\n",
    "# B: indentation matters\n",
    "if 0 == 1:\n",
    "    print('B: We live in a world of arithmetic pain')\n",
    "    print('B:Math is not broken, all is well')"
   ]
  },
  {
   "cell_type": "markdown",
   "metadata": {},
   "source": [
    "### 3.7 For Loop"
   ]
  },
  {
   "cell_type": "code",
   "execution_count": 29,
   "metadata": {},
   "outputs": [
    {
     "name": "stdout",
     "output_type": "stream",
     "text": [
      "Iteration: 0\n",
      "Iteration: 1\n",
      "Iteration: 2\n",
      "Iteration: 3\n"
     ]
    }
   ],
   "source": [
    "# Looping several iterations with range\n",
    "for i in range(4):\n",
    "    print(\"Iteration: {}\".format(i))"
   ]
  },
  {
   "cell_type": "code",
   "execution_count": 30,
   "metadata": {},
   "outputs": [
    {
     "name": "stdout",
     "output_type": "stream",
     "text": [
      "Item: apple\n",
      "Item: banana\n",
      "Item: orange\n",
      "Item: pear\n"
     ]
    }
   ],
   "source": [
    "# You can also loop through a list directly! Note that 'item' in \n",
    "# this case is the actual item in the list and not the index!\n",
    "for item in ['apple', 'banana', 'orange', 'pear']:\n",
    "    print(\"Item: {}\".format(item))"
   ]
  },
  {
   "cell_type": "code",
   "execution_count": 31,
   "metadata": {},
   "outputs": [
    {
     "name": "stdout",
     "output_type": "stream",
     "text": [
      "1\n",
      "2\n",
      "3\n",
      "four\n"
     ]
    }
   ],
   "source": [
    "# Print all items of a tuple\n",
    "for item in t:\n",
    "    print(item)"
   ]
  },
  {
   "cell_type": "code",
   "execution_count": 40,
   "metadata": {},
   "outputs": [
    {
     "name": "stdout",
     "output_type": "stream",
     "text": [
      "All keys and values: \n",
      "key1: 1.37\n",
      "key2: 2\n",
      "key3: five\n",
      "aList: [1, 2, 3]\n",
      "aDict: {'a': 10, 'b': 20}\n",
      "newKey: 20\n",
      "\n",
      "All keys: \n",
      "key1\n",
      "key2\n",
      "key3\n",
      "aList\n",
      "aDict\n",
      "newKey\n",
      "\n",
      "All values: \n",
      "1.37\n",
      "2\n",
      "five\n",
      "[1, 2, 3]\n",
      "{'a': 10, 'b': 20}\n",
      "20\n"
     ]
    }
   ],
   "source": [
    "# Print all items in a dictionary\n",
    "# Note the inherent functions to inspect the dictionary!\n",
    "print(\"All keys and values: \")  \n",
    "for key, value in d.items(): \n",
    "    print(\"{}: {}\".format(key, value))\n",
    "\n",
    "# Print all keys\n",
    "print(\"\\nAll keys: \") # note '\\n' adds a newline\n",
    "for key in d.keys():\n",
    "    print(key)\n",
    "\n",
    "# Print all values\n",
    "print(\"\\nAll values: \")\n",
    "for val in d.values():\n",
    "    print(val)"
   ]
  },
  {
   "cell_type": "markdown",
   "metadata": {},
   "source": [
    "### 3.8 While loop"
   ]
  },
  {
   "cell_type": "code",
   "execution_count": 41,
   "metadata": {},
   "outputs": [
    {
     "name": "stdout",
     "output_type": "stream",
     "text": [
      "Iteration: 0\n",
      "Iteration: 1\n",
      "Iteration: 2\n",
      "Iteration: 3\n"
     ]
    }
   ],
   "source": [
    "# Note: mostly a for-loop is easier!\n",
    "i = 0\n",
    "while True:\n",
    "    print(\"Iteration: {}\".format(i))\n",
    "    i += 1\n",
    "    if i>3:\n",
    "        break # not very nice... let's try this again"
   ]
  },
  {
   "cell_type": "markdown",
   "metadata": {},
   "source": [
    "### 3.8.5 Better While loop"
   ]
  },
  {
   "cell_type": "code",
   "execution_count": 43,
   "metadata": {},
   "outputs": [
    {
     "name": "stdout",
     "output_type": "stream",
     "text": [
      "Iteration: 0\n",
      "Iteration: 1\n",
      "Iteration: 2\n",
      "Iteration: 3\n"
     ]
    }
   ],
   "source": [
    "i = 0\n",
    "while i <= 3:\n",
    "    print(\"Iteration: {}\".format(i))\n",
    "    i += 1"
   ]
  },
  {
   "cell_type": "markdown",
   "metadata": {},
   "source": [
    "### 3.9 List comprehension"
   ]
  },
  {
   "cell_type": "code",
   "execution_count": 55,
   "metadata": {},
   "outputs": [
    {
     "name": "stdout",
     "output_type": "stream",
     "text": [
      "[0, 2, 4, 6, 8]\n",
      "[0, 2, 4, 6, 8]\n",
      "[5, 6, 5]\n",
      "[3, 4, 2, 5, 4, 0, 3, 0, 2, 3, 3]\n",
      "[4, 5, 4]\n"
     ]
    }
   ],
   "source": [
    "# List comprehensions are efficient ways of making a list using a for loop.\n",
    "# Take the following example\n",
    "l = []\n",
    "for i in range(10):\n",
    "    if i % 2 == 0:  # note the modulo operator\n",
    "        l.append(i)\n",
    "print(l)\n",
    "\n",
    "# This is 4 lines, which is 3 more than we need using a list comprehension! Look:\n",
    "l = [i for i in range(10) if i % 2 == 0]\n",
    "print(l)\n",
    "\n",
    "# List comprehensions are used often when filtering items from a list:\n",
    "l = [4, 5, 3, 6, 5, 1, 4, 1, 3, 4, 4]\n",
    "newL = [i for i in l if i >= 5]\n",
    "print(newL)\n",
    "\n",
    "# Or to change all values in a list at once:\n",
    "newL = [i - 1 for i in l]\n",
    "print(newL)\n",
    "\n",
    "# Or a combination of those of course!\n",
    "newL = [i - 1 for i in l if i >= 5]\n",
    "print(newL)"
   ]
  },
  {
   "cell_type": "markdown",
   "metadata": {},
   "source": [
    "### 3.10 Function"
   ]
  },
  {
   "cell_type": "code",
   "execution_count": 59,
   "metadata": {},
   "outputs": [],
   "source": [
    "# Defining a function is easy, but don't forget the documentation!\n",
    "def isprime(n):\n",
    "    \"\"\" \n",
    "    Returns True if n is prime, otherwise False.\n",
    "       \n",
    "    Arguments: \n",
    "        n: Integer number to check\n",
    "       \n",
    "    Returns: \n",
    "        Boolean that is TRUE if n is prime\n",
    "    \"\"\"\n",
    "    \n",
    "    if n <= 1:\n",
    "        return False\n",
    "    \n",
    "    for x in range(2, n):\n",
    "        if (n % x) == 0:\n",
    "            return False\n",
    "        \n",
    "    return True"
   ]
  },
  {
   "cell_type": "code",
   "execution_count": 58,
   "metadata": {},
   "outputs": [
    {
     "name": "stdout",
     "output_type": "stream",
     "text": [
      "Is 40 a prime? False\n",
      "Is 47 a prime? True\n"
     ]
    }
   ],
   "source": [
    "# Calling the function is even easier!\n",
    "print(\"Is 40 a prime?\", isprime(40))\n",
    "print(\"Is 47 a prime?\", isprime(47))"
   ]
  },
  {
   "cell_type": "markdown",
   "metadata": {},
   "source": [
    "### 3.11 Plotting"
   ]
  },
  {
   "cell_type": "code",
   "execution_count": 60,
   "metadata": {},
   "outputs": [],
   "source": [
    "# Import the plotting library\n",
    "import matplotlib.pyplot as plt"
   ]
  },
  {
   "cell_type": "code",
   "execution_count": 72,
   "metadata": {},
   "outputs": [
    {
     "data": {
      "image/png": "[encoded data removed]",
      "text/plain": [
       "<Figure size 1080x216 with 1 Axes>"
      ]
     },
     "metadata": {
      "needs_background": "light"
     },
     "output_type": "display_data"
    }
   ],
   "source": [
    "# One figure\n",
    "plt.figure(figsize=(15, 3))\n",
    "plt.plot(range(0, 24, 2), [0, 0, 0, 1, 2, 4, 4, 6, 5, 7, 3, 0])\n",
    "\n",
    "# Always prettify your figures!\n",
    "plt.xlabel(\"time [hour]\")\n",
    "plt.ylabel(\"frequency [a.u.]\")\n",
    "plt.title(\"Productivity\")\n",
    "plt.xlim([0, 22])\n",
    "plt.grid(True)"
   ]
  },
  {
   "cell_type": "code",
   "execution_count": 64,
   "metadata": {},
   "outputs": [
    {
     "data": {
      "image/png": "[encoded data removed]",
      "text/plain": [
       "<Figure size 1080x216 with 4 Axes>"
      ]
     },
     "metadata": {
      "needs_background": "light"
     },
     "output_type": "display_data"
    }
   ],
   "source": [
    "# Multiple figures\n",
    "fig, ax = plt.subplots(2, 2, figsize=(15, 3), sharex=True, sharey=True)\n",
    "ax = ax.flatten()\n",
    "for i in range(4):\n",
    "    ax[i].plot(list(range(10)), list(range(0, 20, 2)))\n",
    "fig.suptitle(\"Four plots with equal axes\")\n",
    "fig.tight_layout()"
   ]
  },
  {
   "cell_type": "code",
   "execution_count": 146,
   "metadata": {},
   "outputs": [
    {
     "data": {
      "text/plain": [
       "(-0.5, 2.5, 2.5, -0.5)"
      ]
     },
     "execution_count": 146,
     "metadata": {},
     "output_type": "execute_result"
    },
    {
     "data": {
      "image/png": "[encoded data removed]",
      "text/plain": [
       "<Figure size 720x144 with 1 Axes>"
      ]
     },
     "metadata": {
      "needs_background": "light"
     },
     "output_type": "display_data"
    },
    {
     "data": {
      "image/png": "[encoded data removed]",
      "text/plain": [
       "<Figure size 360x216 with 1 Axes>"
      ]
     },
     "metadata": {
      "needs_background": "light"
     },
     "output_type": "display_data"
    },
    {
     "data": {
      "image/png": "[encoded data removed]",
      "text/plain": [
       "<Figure size 360x216 with 1 Axes>"
      ]
     },
     "metadata": {
      "needs_background": "light"
     },
     "output_type": "display_data"
    },
    {
     "data": {
      "image/png": "[encoded data removed]",
      "text/plain": [
       "<Figure size 360x216 with 1 Axes>"
      ]
     },
     "metadata": {
      "needs_background": "light"
     },
     "output_type": "display_data"
    },
    {
     "data": {
      "image/png": "[encoded data removed]",
      "text/plain": [
       "<Figure size 288x288 with 1 Axes>"
      ]
     },
     "metadata": {
      "needs_background": "light"
     },
     "output_type": "display_data"
    }
   ],
   "source": [
    "# There are multiple types of plots!\n",
    "# Different line plot\n",
    "plt.figure(figsize=(10, 2))\n",
    "plt.plot(range(0, 24, 2), [2, 2, 3, 1, 2, 5, 4, 6, 6, 9, 5, 2], linestyle='dotted')\n",
    "plt.xlabel(\"time [hour]\")\n",
    "plt.ylabel(\"frequency [a.u.]\")\n",
    "plt.title(\"New productivity\")\n",
    "plt.xlim([0, 22])\n",
    "\n",
    "# Scatter plot\n",
    "plt.figure(figsize=(5, 3))\n",
    "x = [1, 10, 4, 14, 12, 13, 12, 11, 14, 2, 5, 8, 5, 14, 14, 5, 7, 5, 6, 8, 4, 8, 9, 5]\n",
    "y = [4, 5, 4.5, 9, 8, 8.5, 5.5, 6, 8, 2, 4, 5, 5, 8, 7, 4, 1, 2, 6, 5, 8, 8, 7, 4]\n",
    "plt.scatter(x, y, color='green')  # let's make this one a different colour\n",
    "plt.xlabel(\"Number of Assignments handed in\")\n",
    "plt.ylabel(\"Final grade\")\n",
    "plt.title(\"Effectiveness of doing assignments\")\n",
    "plt.ylim([0, 10])\n",
    "\n",
    "# Bar plot\n",
    "plt.figure(figsize=(5, 3))\n",
    "plt.bar([\"Food\", \"Movies\", \"Series\", \"Sports\"], [8, 5, 7, 3])\n",
    "plt.xlabel(\"Categories\")\n",
    "plt.ylabel(\"Measures\")\n",
    "plt.title(\"Enjoyment of various activities\")\n",
    "\n",
    "# Histogram\n",
    "plt.figure(figsize=(5, 3))\n",
    "values = [4, 5, 4.5, 9, 8, 8.5, 5.5, 6, 8, 2, 4, 5, 5, 8, 7, 4, 1, 2, 6, 5, 8, 8, 7, 4]\n",
    "plt.hist(values, 5)\n",
    "plt.xlabel(\"Grade\")\n",
    "plt.ylabel(\"Count\")\n",
    "plt.title(\"Exam grades\")\n",
    "\n",
    "# Take a look at how we used the hist() function above, what does that '5' mean?\n",
    "# hint: https://matplotlib.org/stable/api/_as_gen/matplotlib.pyplot.hist.html\n",
    "\n",
    "# Images can also be plotted!\n",
    "plt.figure(figsize=(4, 4))\n",
    "x = [[0, 1, 0], [1, 0, 1], [0, 1, 0]]\n",
    "plt.imshow(x, cmap='gray')\n",
    "plt.axis('off')"
   ]
  },
  {
   "cell_type": "markdown",
   "metadata": {},
   "source": [
    "### 3.11 Numpy"
   ]
  },
  {
   "cell_type": "code",
   "execution_count": 1,
   "metadata": {},
   "outputs": [],
   "source": [
    "import numpy as np"
   ]
  },
  {
   "cell_type": "code",
   "execution_count": 145,
   "metadata": {},
   "outputs": [
    {
     "name": "stdout",
     "output_type": "stream",
     "text": [
      "[0 2 4 6 8]\n",
      "[0 1 2 3 4]\n"
     ]
    }
   ],
   "source": [
    "# Let's create two vectors\n",
    "v = np.arange(0, 10, 2)\n",
    "u = np.arange(0, 5)\n",
    "# Note that this function works similar to python's range() function.\n",
    "# But just to be sure, take a look at the documentation:\n",
    "# https://numpy.org/doc/stable/reference/generated/numpy.arange.html\n",
    "# What are the three differences between this function and the inherent range() function?\n",
    "print(v)\n",
    "print(u)"
   ]
  },
  {
   "cell_type": "code",
   "execution_count": 117,
   "metadata": {},
   "outputs": [
    {
     "name": "stdout",
     "output_type": "stream",
     "text": [
      "(5,) 5\n"
     ]
    }
   ],
   "source": [
    "# Print the dimensions and the total number of elements (note te difference)\n",
    "print(v.shape, v.size)"
   ]
  },
  {
   "cell_type": "code",
   "execution_count": 119,
   "metadata": {},
   "outputs": [
    {
     "name": "stdout",
     "output_type": "stream",
     "text": [
      "Sum: 20\n",
      "Mean: 4.0\n",
      "Standard deviation: 2.8284271247461903\n",
      "Median: 4.0\n",
      "Maximum value: 8\n"
     ]
    }
   ],
   "source": [
    "# Some useful statistics\n",
    "print(\"Sum:\", np.sum(v))\n",
    "print(\"Mean:\", np.mean(v))\n",
    "print(\"Standard deviation:\", np.std(v))\n",
    "print(\"Median:\", np.median(v))\n",
    "print(\"Maximum value:\", np.max(v))"
   ]
  },
  {
   "cell_type": "code",
   "execution_count": 120,
   "metadata": {},
   "outputs": [
    {
     "name": "stdout",
     "output_type": "stream",
     "text": [
      "Dot product: 60\n",
      "Inner product: 60\n",
      "Outer product: [[ 0  0  0  0  0]\n",
      " [ 0  2  4  6  8]\n",
      " [ 0  4  8 12 16]\n",
      " [ 0  6 12 18 24]\n",
      " [ 0  8 16 24 32]]\n",
      "Element-wise multiplication: [ 0  2  8 18 32]\n"
     ]
    }
   ],
   "source": [
    "# Products (note the differences)\n",
    "print(\"Dot product:\", v.dot(u))\n",
    "print(\"Inner product:\", np.inner(v, u))\n",
    "print(\"Outer product:\", np.outer(v, u))\n",
    "print(\"Element-wise multiplication:\", v * u)"
   ]
  },
  {
   "cell_type": "code",
   "execution_count": 121,
   "metadata": {},
   "outputs": [
    {
     "name": "stdout",
     "output_type": "stream",
     "text": [
      "Dimensions of A:  (42, 23)\n",
      "Dimensions of B:  (23, 42)\n"
     ]
    }
   ],
   "source": [
    "# Let's create two matrices:\n",
    "A = np.random.uniform(0,1,[42,23])\n",
    "B = np.random.uniform(0,1,[23,42])\n",
    "\n",
    "print(\"Dimensions of A: \", A.shape)\n",
    "print(\"Dimensions of B: \", B.shape)"
   ]
  },
  {
   "cell_type": "code",
   "execution_count": 122,
   "metadata": {},
   "outputs": [
    {
     "name": "stdout",
     "output_type": "stream",
     "text": [
      "Are these operations equal? True\n",
      "Dimensions of C=AB:  (42, 42)\n",
      "Dimensions of D=A*B.T:  (42, 23)\n",
      "Dimensions of E=BA:  (23, 23)\n"
     ]
    }
   ],
   "source": [
    "# To do matrix multiplication, you use the dot product, or you can use a simple @ operator:\n",
    "C = np.dot(A, B)\n",
    "C_ = A @ B\n",
    "print(f'Are these operations equal? {np.all(C==C_)}')\n",
    "print(\"Dimensions of C=AB: \", C.shape)\n",
    "\n",
    "# Note the difference!!\n",
    "D = A * B.T\n",
    "print(\"Dimensions of D=A*B.T: \", D.shape)\n",
    "\n",
    "# Note the difference!!\n",
    "E = np.dot(B, A)\n",
    "print(\"Dimensions of E=BA: \", E.shape)"
   ]
  },
  {
   "cell_type": "code",
   "execution_count": 123,
   "metadata": {},
   "outputs": [
    {
     "name": "stdout",
     "output_type": "stream",
     "text": [
      "[[ 1  2  3  4]\n",
      " [ 5  6  7  8]\n",
      " [ 9 10 11 12]]\n"
     ]
    }
   ],
   "source": [
    "# Create easy matrix\n",
    "M = np.array([[1, 2, 3, 4], [5, 6, 7, 8], [9, 10, 11, 12]])\n",
    "print(M)"
   ]
  },
  {
   "cell_type": "code",
   "execution_count": 124,
   "metadata": {},
   "outputs": [
    {
     "name": "stdout",
     "output_type": "stream",
     "text": [
      "Number of elements in M:  12\n",
      "Dimensions of M:  (3, 4)\n"
     ]
    }
   ],
   "source": [
    "# Print the dimensions and the total number of elements (note te difference)\n",
    "print(\"Number of elements in M: \", M.size)\n",
    "print(\"Dimensions of M: \", M.shape)"
   ]
  },
  {
   "cell_type": "code",
   "execution_count": 125,
   "metadata": {},
   "outputs": [
    {
     "name": "stdout",
     "output_type": "stream",
     "text": [
      "First dimension [1 2 3 4]\n",
      "First item: 1\n",
      "An item: 12\n",
      "Last item: 12\n",
      "Second row: [5 6 7 8]\n",
      "Second column: [ 2  6 10]\n"
     ]
    }
   ],
   "source": [
    "# Indexing in numpy vectors/matrices (quite similar to python nested lists)\n",
    "print(\"First dimension\", M[0])\n",
    "print(\"First item:\", M[0, 0])\n",
    "print(\"An item:\", M[2, 3])\n",
    "print(\"Last item:\", M[-1, -1])\n",
    "print(\"Second row:\", M[1, :])\n",
    "print(\"Second column:\", M[:, 1])"
   ]
  },
  {
   "cell_type": "code",
   "execution_count": 126,
   "metadata": {},
   "outputs": [
    {
     "name": "stdout",
     "output_type": "stream",
     "text": [
      "Flattened M: [ 1  2  3  4  5  6  7  8  9 10 11 12]\n"
     ]
    }
   ],
   "source": [
    "# Note that when extracting data like this, in numpy the data in the vector will then be  \n",
    "# in row-major order: https://en.wikipedia.org/wiki/Row-major_order\n",
    "# Matlab uses column-major order. \n",
    "print(\"Flattened M:\", M.flatten())"
   ]
  },
  {
   "cell_type": "code",
   "execution_count": 127,
   "metadata": {},
   "outputs": [],
   "source": [
    "# There are also functions to preallocate space for your matrices:\n",
    "D = np.zeros([42, 23]) # full of zeros\n",
    "D = np.ones([42, 23]) # full of ones\n",
    "D = 10 * np.ones([42, 23]) # full of tens\n",
    "\n",
    "# Or to just create random numbers, with a uniform distribution: \n",
    "E = np.random.uniform(0, 1, [42, 23])\n",
    "\n",
    "# ..and with a normal distribution: \n",
    "F = np.random.randn(42, 23)"
   ]
  },
  {
   "cell_type": "code",
   "execution_count": 128,
   "metadata": {},
   "outputs": [
    {
     "name": "stdout",
     "output_type": "stream",
     "text": [
      "(4, 5)\n",
      "10.124041060125412\n",
      "[2.14533193 2.03461141 1.91162242 2.66061289 1.37186241]\n",
      "[3.27467552 2.85067766 0.82760104 3.17108684]\n"
     ]
    }
   ],
   "source": [
    "# Note the difference, always make use of the axis parameter!\n",
    "D = np.random.rand(4, 5)\n",
    "print(D.shape)\n",
    "print(np.sum(D))\n",
    "print(np.sum(D, axis=0))\n",
    "print(np.sum(D, axis=1))"
   ]
  },
  {
   "cell_type": "markdown",
   "metadata": {},
   "source": [
    "#### 3.11.1 Notes on Numpy"
   ]
  },
  {
   "cell_type": "code",
   "execution_count": 129,
   "metadata": {},
   "outputs": [
    {
     "data": {
      "text/plain": [
       "array([0.47281526, 0.69410612, 0.66624575])"
      ]
     },
     "execution_count": 129,
     "metadata": {},
     "output_type": "execute_result"
    }
   ],
   "source": [
    "# Let's make a 2D matrix\n",
    "M = np.random.rand(3, 4)\n",
    "\n",
    "# We see many students indixing in a multi-dimension array like so:\n",
    "M[0] # selects first dimension\n",
    "M.T[0] # selects second dimension\n",
    "\n",
    "# Despite this is all okay to numpy, it makes no sense! Instead, do this:\n",
    "M[0, :]\n",
    "M[:, 0]\n",
    "\n",
    "# This makes it explicit which dimension you are selecting, how many dimensions there are, and is way easier to read. \n"
   ]
  },
  {
   "cell_type": "code",
   "execution_count": 130,
   "metadata": {},
   "outputs": [
    {
     "data": {
      "text/plain": [
       "4"
      ]
     },
     "execution_count": 130,
     "metadata": {},
     "output_type": "execute_result"
    }
   ],
   "source": [
    "# Let's make a 2D matrix\n",
    "M = np.random.rand(3, 4)\n",
    "\n",
    "# We see many students asking sizes of dimensions like so:\n",
    "len(M) # size first dimension\n",
    "len(M.T) # size second dimension\n",
    "\n",
    "# Despite this is all okay to numpy, it makes no sense! Instead, do this:\n",
    "M.shape[0]\n",
    "M.shape[1]\n",
    "\n",
    "# This makes it explicit which dimension you are asking the size for and is way easier to read. \n"
   ]
  },
  {
   "cell_type": "markdown",
   "metadata": {},
   "source": [
    "#### 3.12.2 Numpy versus native python"
   ]
  },
  {
   "cell_type": "code",
   "execution_count": 2,
   "metadata": {},
   "outputs": [
    {
     "name": "stdout",
     "output_type": "stream",
     "text": [
      "Are arr_500 and arr_500_from_list still equal?  True\n"
     ]
    }
   ],
   "source": [
    "# Create an array counting from 0 to 499 (note that Python uses zero-based indexing):\n",
    "arr_500 = np.arange(500)\n",
    "\n",
    "# You can convert lists of numbers into numpy arrays: \n",
    "list_500 = arr_500.tolist()\n",
    "\n",
    "# and back:\n",
    "arr_500_from_list = np.array(list_500)\n",
    "\n",
    "print(\"Are arr_500 and arr_500_from_list still equal? \", np.all(np.equal(arr_500, arr_500_from_list)))"
   ]
  },
  {
   "cell_type": "code",
   "execution_count": 132,
   "metadata": {},
   "outputs": [
    {
     "name": "stdout",
     "output_type": "stream",
     "text": [
      "Speed of vector-scalar multiplication with Python List: \n",
      "39.1 µs ± 1.11 µs per loop (mean ± std. dev. of 7 runs, 10000 loops each)\n"
     ]
    }
   ],
   "source": [
    "# Native python (slow)\n",
    "def list_time(alist, scalar):\n",
    "    for i, val in enumerate(alist):\n",
    "        alist[i] = val * scalar\n",
    "    return alist\n",
    "\n",
    "print(\"Speed of vector-scalar multiplication with Python List: \")\n",
    "%timeit list_time(list_500, 1.1)"
   ]
  },
  {
   "cell_type": "code",
   "execution_count": 133,
   "metadata": {},
   "outputs": [
    {
     "name": "stdout",
     "output_type": "stream",
     "text": [
      "Speed of vector-scalar multiplication with NumPy arrays: \n",
      "1.67 µs ± 2.83 ns per loop (mean ± std. dev. of 7 runs, 1000000 loops each)\n"
     ]
    }
   ],
   "source": [
    "# Numpy (fast)\n",
    "print(\"Speed of vector-scalar multiplication with NumPy arrays: \")\n",
    "%timeit arr_500 * 1.1"
   ]
  },
  {
   "cell_type": "code",
   "execution_count": 5,
   "metadata": {},
   "outputs": [
    {
     "name": "stdout",
     "output_type": "stream",
     "text": [
      "Speed of vector-scalar multiplication with list comprehensions: \n",
      "12.6 µs ± 92.6 ns per loop (mean ± std. dev. of 7 runs, 100,000 loops each)\n",
      "Init and multiplication with numpy: \n",
      "805 ns ± 6.94 ns per loop (mean ± std. dev. of 7 runs, 1,000,000 loops each)\n",
      "Init and multiplication with list: \n",
      "584 ns ± 4.62 ns per loop (mean ± std. dev. of 7 runs, 1,000,000 loops each)\n"
     ]
    }
   ],
   "source": [
    "# In some cases you still need to work on a list. Consider list comprehensions\n",
    "print(\"Speed of vector-scalar multiplication with list comprehensions: \")\n",
    "%timeit [e * 1.1 for e in list_500]\n",
    "\n",
    "# This holds especially true, if you have just some small data to process, as the overhead\n",
    "# for allocation of numpy might become substantial\n",
    "def numpy_init_and_mult():\n",
    "    a = np.arange(15)\n",
    "    return a * 1.1\n",
    "\n",
    "def list_init_and_mult():\n",
    "    a = list(range(15))\n",
    "    return [e * 1.1 for e in a]\n",
    "\n",
    "print(\"Init and multiplication with numpy: \")\n",
    "%timeit numpy_init_and_mult()\n",
    "\n",
    "print(\"Init and multiplication with list: \")\n",
    "%timeit list_init_and_mult()"
   ]
  },
  {
   "cell_type": "markdown",
   "metadata": {},
   "source": [
    "### 3.12 Scikit-learn\n",
    "[Scikit-learn or short `sklearn`](https://scikit-learn.org/stable/index.html) will be your first go-to library for all kind of machine learning tasks, with the exception of larger neural network type of models.\n",
    "\n",
    "In the following, we will show a few relevant basic examples of how to use `sklearn` for basic classification and regression tasks"
   ]
  },
  {
   "cell_type": "markdown",
   "metadata": {},
   "source": [
    "#### 3.12.1 Data and splits"
   ]
  },
  {
   "cell_type": "code",
   "execution_count": 4,
   "metadata": {},
   "outputs": [
    {
     "name": "stdout",
     "output_type": "stream",
     "text": [
      "type(X)=<class 'numpy.ndarray'>, (100, 20), <class 'numpy.ndarray'>, (100,)\n"
     ]
    }
   ],
   "source": [
    "# Sklearn basically builds on numpy arrays for its basic computations\n",
    "# You can also use sklearn to create some dummy data\n",
    "from sklearn.datasets import make_classification\n",
    "\n",
    "X, y = make_classification(\n",
    "    n_features=20,\n",
    "    n_informative=3,\n",
    "    n_redundant=0,\n",
    "    n_classes=2,\n",
    "    n_clusters_per_class=2,\n",
    "    random_state=42,\n",
    ")\n",
    "\n",
    "print(f\"{type(X)=}, {X.shape}, {type(y)}, {y.shape}\")"
   ]
  },
  {
   "cell_type": "code",
   "execution_count": 6,
   "metadata": {},
   "outputs": [
    {
     "name": "stdout",
     "output_type": "stream",
     "text": [
      "type(X_train)=<class 'numpy.ndarray'>, (75, 20), <class 'numpy.ndarray'>, (75,)\n",
      "type(X_test)=<class 'numpy.ndarray'>, (25, 20), <class 'numpy.ndarray'>, (25,)\n"
     ]
    }
   ],
   "source": [
    "# For machine learning tasks, we always need to split the data into at least training and a test\n",
    "# set, which need to be distinct. Otherwise you will encounter overfitting!\n",
    "# A simple way to achive this is the following\n",
    "from sklearn.model_selection import train_test_split\n",
    "\n",
    "X_train, X_test, y_train, y_test = train_test_split(X, y, random_state=42)\n",
    "print(f\"{type(X_train)=}, {X_train.shape}, {type(y_train)}, {y_train.shape}\")\n",
    "print(f\"{type(X_test)=}, {X_test.shape}, {type(y_test)}, {y_test.shape}\")"
   ]
  },
  {
   "cell_type": "markdown",
   "metadata": {},
   "source": [
    "#### 3.12.2 Using a classifier"
   ]
  },
  {
   "cell_type": "code",
   "execution_count": 8,
   "metadata": {},
   "outputs": [
    {
     "data": {
      "text/html": [
       "<style>#sk-container-id-1 {color: black;background-color: white;}#sk-container-id-1 pre{padding: 0;}#sk-container-id-1 div.sk-toggleable {background-color: white;}#sk-container-id-1 label.sk-toggleable__label {cursor: pointer;display: block;width: 100%;margin-bottom: 0;padding: 0.3em;box-sizing: border-box;text-align: center;}#sk-container-id-1 label.sk-toggleable__label-arrow:before {content: \"▸\";float: left;margin-right: 0.25em;color: #696969;}#sk-container-id-1 label.sk-toggleable__label-arrow:hover:before {color: black;}#sk-container-id-1 div.sk-estimator:hover label.sk-toggleable__label-arrow:before {color: black;}#sk-container-id-1 div.sk-toggleable__content {max-height: 0;max-width: 0;overflow: hidden;text-align: left;background-color: #f0f8ff;}#sk-container-id-1 div.sk-toggleable__content pre {margin: 0.2em;color: black;border-radius: 0.25em;background-color: #f0f8ff;}#sk-container-id-1 input.sk-toggleable__control:checked~div.sk-toggleable__content {max-height: 200px;max-width: 100%;overflow: auto;}#sk-container-id-1 input.sk-toggleable__control:checked~label.sk-toggleable__label-arrow:before {content: \"▾\";}#sk-container-id-1 div.sk-estimator input.sk-toggleable__control:checked~label.sk-toggleable__label {background-color: #d4ebff;}#sk-container-id-1 div.sk-label input.sk-toggleable__control:checked~label.sk-toggleable__label {background-color: #d4ebff;}#sk-container-id-1 input.sk-hidden--visually {border: 0;clip: rect(1px 1px 1px 1px);clip: rect(1px, 1px, 1px, 1px);height: 1px;margin: -1px;overflow: hidden;padding: 0;position: absolute;width: 1px;}#sk-container-id-1 div.sk-estimator {font-family: monospace;background-color: #f0f8ff;border: 1px dotted black;border-radius: 0.25em;box-sizing: border-box;margin-bottom: 0.5em;}#sk-container-id-1 div.sk-estimator:hover {background-color: #d4ebff;}#sk-container-id-1 div.sk-parallel-item::after {content: \"\";width: 100%;border-bottom: 1px solid gray;flex-grow: 1;}#sk-container-id-1 div.sk-label:hover label.sk-toggleable__label {background-color: #d4ebff;}#sk-container-id-1 div.sk-serial::before {content: \"\";position: absolute;border-left: 1px solid gray;box-sizing: border-box;top: 0;bottom: 0;left: 50%;z-index: 0;}#sk-container-id-1 div.sk-serial {display: flex;flex-direction: column;align-items: center;background-color: white;padding-right: 0.2em;padding-left: 0.2em;position: relative;}#sk-container-id-1 div.sk-item {position: relative;z-index: 1;}#sk-container-id-1 div.sk-parallel {display: flex;align-items: stretch;justify-content: center;background-color: white;position: relative;}#sk-container-id-1 div.sk-item::before, #sk-container-id-1 div.sk-parallel-item::before {content: \"\";position: absolute;border-left: 1px solid gray;box-sizing: border-box;top: 0;bottom: 0;left: 50%;z-index: -1;}#sk-container-id-1 div.sk-parallel-item {display: flex;flex-direction: column;z-index: 1;position: relative;background-color: white;}#sk-container-id-1 div.sk-parallel-item:first-child::after {align-self: flex-end;width: 50%;}#sk-container-id-1 div.sk-parallel-item:last-child::after {align-self: flex-start;width: 50%;}#sk-container-id-1 div.sk-parallel-item:only-child::after {width: 0;}#sk-container-id-1 div.sk-dashed-wrapped {border: 1px dashed gray;margin: 0 0.4em 0.5em 0.4em;box-sizing: border-box;padding-bottom: 0.4em;background-color: white;}#sk-container-id-1 div.sk-label label {font-family: monospace;font-weight: bold;display: inline-block;line-height: 1.2em;}#sk-container-id-1 div.sk-label-container {text-align: center;}#sk-container-id-1 div.sk-container {/* jupyter's `normalize.less` sets `[hidden] { display: none; }` but bootstrap.min.css set `[hidden] { display: none !important; }` so we also need the `!important` here to be able to override the default hidden behavior on the sphinx rendered scikit-learn.org. See: https://github.com/scikit-learn/scikit-learn/issues/21755 */display: inline-block !important;position: relative;}#sk-container-id-1 div.sk-text-repr-fallback {display: none;}</style><div id=\"sk-container-id-1\" class=\"sk-top-container\"><div class=\"sk-text-repr-fallback\"><pre>LinearSVC()</pre><b>In a Jupyter environment, please rerun this cell to show the HTML representation or trust the notebook. <br />On GitHub, the HTML representation is unable to render, please try loading this page with nbviewer.org.</b></div><div class=\"sk-container\" hidden><div class=\"sk-item\"><div class=\"sk-estimator sk-toggleable\"><input class=\"sk-toggleable__control sk-hidden--visually\" id=\"sk-estimator-id-1\" type=\"checkbox\" checked><label for=\"sk-estimator-id-1\" class=\"sk-toggleable__label sk-toggleable__label-arrow\">LinearSVC</label><div class=\"sk-toggleable__content\"><pre>LinearSVC()</pre></div></div></div></div></div>"
      ],
      "text/plain": [
       "LinearSVC()"
      ]
     },
     "execution_count": 8,
     "metadata": {},
     "output_type": "execute_result"
    }
   ],
   "source": [
    "# Load a plain classifier \n",
    "from sklearn.svm import LinearSVC\n",
    "clf = LinearSVC()\n",
    "\n",
    "# use the training data to fit the classifier - here we have a supervised classifier, so we\n",
    "# also provide the training labels `y_train`\n",
    "clf.fit(X_train, y_train)"
   ]
  },
  {
   "cell_type": "code",
   "execution_count": 10,
   "metadata": {},
   "outputs": [
    {
     "data": {
      "text/plain": [
       "array([1, 1, 1, 1, 0, 1, 1, 0, 1, 0, 1, 0, 0, 1, 0, 0, 1, 1, 0, 1, 1, 1,\n",
       "       1, 1, 0])"
      ]
     },
     "execution_count": 10,
     "metadata": {},
     "output_type": "execute_result"
    }
   ],
   "source": [
    "# now lets make a prediction for the test set\n",
    "ypred = clf.predict(X_test)\n",
    "ypred"
   ]
  },
  {
   "cell_type": "code",
   "execution_count": 13,
   "metadata": {},
   "outputs": [
    {
     "name": "stdout",
     "output_type": "stream",
     "text": [
      "Model LinearSVC() achieved 68.00% test accuray\n"
     ]
    }
   ],
   "source": [
    "# We can also calculate the accuray of our prediction using the sklearn module\n",
    "from sklearn.metrics import accuracy_score\n",
    "acc = accuracy_score(y_test, ypred)\n",
    "print(f\"Model {clf} achieved {acc:.2%} test accuray\")"
   ]
  },
  {
   "cell_type": "markdown",
   "metadata": {},
   "source": [
    "#### 3.12.3 Using a regressor\n",
    "Using a regressor is very similar to the classifier use case above. Just think of the `y` values as continuous instead of categorical."
   ]
  },
  {
   "cell_type": "code",
   "execution_count": 17,
   "metadata": {},
   "outputs": [
    {
     "name": "stdout",
     "output_type": "stream",
     "text": [
      "y=array([ 3.40700566e+01, -6.92968062e+01, -3.40165758e+01, -3.72157779e+01,\n",
      "        4.40834553e+00, -7.22747301e+01, -2.78028645e+00, -3.15847776e+01,\n",
      "       -5.65950920e+00, -3.60601592e+01,  1.84091205e+01, -1.19496539e+01,\n",
      "       -1.45700096e+01, -7.71165797e+01, -2.04518175e+01, -1.29168859e+01,\n",
      "       -2.95132082e+01,  3.55634823e+01, -2.63628263e+01,  6.32160377e+01,\n",
      "       -2.51871945e+01, -2.29131521e+01, -1.51354699e+01, -3.21381268e+01,\n",
      "       -4.85758512e+01, -4.65047394e+00,  4.62935334e+01,  2.08334022e+01,\n",
      "        3.60334253e+01, -3.93976446e+01,  1.73197227e+01,  8.33674561e+01,\n",
      "        6.31194479e+01,  1.48559711e+01, -2.84508041e+00,  6.00606376e+01,\n",
      "        2.42460289e+01,  7.96997172e+00, -4.34483746e+01,  5.03623711e+01,\n",
      "       -4.46319456e+01, -2.58060297e+01, -1.67813120e-02, -5.19768928e+01,\n",
      "       -3.90081194e+01, -9.23268109e+01,  4.89239821e+01, -8.45632594e+01,\n",
      "        5.62233545e+01,  6.44239678e+00])\n"
     ]
    }
   ],
   "source": [
    "from sklearn.datasets import make_regression\n",
    "X, y = make_regression(n_samples=50, n_features=2, noise=1, random_state=42)\n",
    "print(f\"{y=}\")\n",
    "\n",
    "X_train, X_test, y_train, y_test = train_test_split(X, y, random_state=42)"
   ]
  },
  {
   "cell_type": "code",
   "execution_count": 19,
   "metadata": {},
   "outputs": [
    {
     "data": {
      "text/html": [
       "<style>#sk-container-id-2 {color: black;background-color: white;}#sk-container-id-2 pre{padding: 0;}#sk-container-id-2 div.sk-toggleable {background-color: white;}#sk-container-id-2 label.sk-toggleable__label {cursor: pointer;display: block;width: 100%;margin-bottom: 0;padding: 0.3em;box-sizing: border-box;text-align: center;}#sk-container-id-2 label.sk-toggleable__label-arrow:before {content: \"▸\";float: left;margin-right: 0.25em;color: #696969;}#sk-container-id-2 label.sk-toggleable__label-arrow:hover:before {color: black;}#sk-container-id-2 div.sk-estimator:hover label.sk-toggleable__label-arrow:before {color: black;}#sk-container-id-2 div.sk-toggleable__content {max-height: 0;max-width: 0;overflow: hidden;text-align: left;background-color: #f0f8ff;}#sk-container-id-2 div.sk-toggleable__content pre {margin: 0.2em;color: black;border-radius: 0.25em;background-color: #f0f8ff;}#sk-container-id-2 input.sk-toggleable__control:checked~div.sk-toggleable__content {max-height: 200px;max-width: 100%;overflow: auto;}#sk-container-id-2 input.sk-toggleable__control:checked~label.sk-toggleable__label-arrow:before {content: \"▾\";}#sk-container-id-2 div.sk-estimator input.sk-toggleable__control:checked~label.sk-toggleable__label {background-color: #d4ebff;}#sk-container-id-2 div.sk-label input.sk-toggleable__control:checked~label.sk-toggleable__label {background-color: #d4ebff;}#sk-container-id-2 input.sk-hidden--visually {border: 0;clip: rect(1px 1px 1px 1px);clip: rect(1px, 1px, 1px, 1px);height: 1px;margin: -1px;overflow: hidden;padding: 0;position: absolute;width: 1px;}#sk-container-id-2 div.sk-estimator {font-family: monospace;background-color: #f0f8ff;border: 1px dotted black;border-radius: 0.25em;box-sizing: border-box;margin-bottom: 0.5em;}#sk-container-id-2 div.sk-estimator:hover {background-color: #d4ebff;}#sk-container-id-2 div.sk-parallel-item::after {content: \"\";width: 100%;border-bottom: 1px solid gray;flex-grow: 1;}#sk-container-id-2 div.sk-label:hover label.sk-toggleable__label {background-color: #d4ebff;}#sk-container-id-2 div.sk-serial::before {content: \"\";position: absolute;border-left: 1px solid gray;box-sizing: border-box;top: 0;bottom: 0;left: 50%;z-index: 0;}#sk-container-id-2 div.sk-serial {display: flex;flex-direction: column;align-items: center;background-color: white;padding-right: 0.2em;padding-left: 0.2em;position: relative;}#sk-container-id-2 div.sk-item {position: relative;z-index: 1;}#sk-container-id-2 div.sk-parallel {display: flex;align-items: stretch;justify-content: center;background-color: white;position: relative;}#sk-container-id-2 div.sk-item::before, #sk-container-id-2 div.sk-parallel-item::before {content: \"\";position: absolute;border-left: 1px solid gray;box-sizing: border-box;top: 0;bottom: 0;left: 50%;z-index: -1;}#sk-container-id-2 div.sk-parallel-item {display: flex;flex-direction: column;z-index: 1;position: relative;background-color: white;}#sk-container-id-2 div.sk-parallel-item:first-child::after {align-self: flex-end;width: 50%;}#sk-container-id-2 div.sk-parallel-item:last-child::after {align-self: flex-start;width: 50%;}#sk-container-id-2 div.sk-parallel-item:only-child::after {width: 0;}#sk-container-id-2 div.sk-dashed-wrapped {border: 1px dashed gray;margin: 0 0.4em 0.5em 0.4em;box-sizing: border-box;padding-bottom: 0.4em;background-color: white;}#sk-container-id-2 div.sk-label label {font-family: monospace;font-weight: bold;display: inline-block;line-height: 1.2em;}#sk-container-id-2 div.sk-label-container {text-align: center;}#sk-container-id-2 div.sk-container {/* jupyter's `normalize.less` sets `[hidden] { display: none; }` but bootstrap.min.css set `[hidden] { display: none !important; }` so we also need the `!important` here to be able to override the default hidden behavior on the sphinx rendered scikit-learn.org. See: https://github.com/scikit-learn/scikit-learn/issues/21755 */display: inline-block !important;position: relative;}#sk-container-id-2 div.sk-text-repr-fallback {display: none;}</style><div id=\"sk-container-id-2\" class=\"sk-top-container\"><div class=\"sk-text-repr-fallback\"><pre>Ridge()</pre><b>In a Jupyter environment, please rerun this cell to show the HTML representation or trust the notebook. <br />On GitHub, the HTML representation is unable to render, please try loading this page with nbviewer.org.</b></div><div class=\"sk-container\" hidden><div class=\"sk-item\"><div class=\"sk-estimator sk-toggleable\"><input class=\"sk-toggleable__control sk-hidden--visually\" id=\"sk-estimator-id-2\" type=\"checkbox\" checked><label for=\"sk-estimator-id-2\" class=\"sk-toggleable__label sk-toggleable__label-arrow\">Ridge</label><div class=\"sk-toggleable__content\"><pre>Ridge()</pre></div></div></div></div></div>"
      ],
      "text/plain": [
       "Ridge()"
      ]
     },
     "execution_count": 19,
     "metadata": {},
     "output_type": "execute_result"
    }
   ],
   "source": [
    "# build a regressor\n",
    "from sklearn.linear_model import Ridge\n",
    "reg = Ridge()\n",
    "\n",
    "reg.fit(X_train, y_train)"
   ]
  },
  {
   "cell_type": "code",
   "execution_count": 21,
   "metadata": {},
   "outputs": [
    {
     "data": {
      "text/plain": [
       "array([-74.57351179,  46.53233381,  15.98617591, -86.36340108,\n",
       "        33.49427152,  52.36235562,  42.60173766,  -5.50729005,\n",
       "        60.71775563,  60.17276889, -14.17525897,   3.84098813,\n",
       "         5.48592392])"
      ]
     },
     "execution_count": 21,
     "metadata": {},
     "output_type": "execute_result"
    }
   ],
   "source": [
    "# now lets predict\n",
    "ypred = reg.predict(X_test)\n",
    "ypred"
   ]
  },
  {
   "cell_type": "code",
   "execution_count": 24,
   "metadata": {},
   "outputs": [
    {
     "name": "stdout",
     "output_type": "stream",
     "text": [
      "RMSE for model=Ridge() is: 2.957483943136342\n"
     ]
    }
   ],
   "source": [
    "# And calculate the RMSE for the prediction\n",
    "rmse = np.mean((ypred - y_test)**2)**(1/2)\n",
    "print(f\"RMSE for model={reg} is: {rmse}\")"
   ]
  },
  {
   "cell_type": "code",
   "execution_count": 31,
   "metadata": {},
   "outputs": [
    {
     "data": {
      "text/plain": [
       "Text(0, 0.5, 'prediction')"
      ]
     },
     "execution_count": 31,
     "metadata": {},
     "output_type": "execute_result"
    },
    {
     "data": {
      "image/png": "[encoded data removed]",
      "text/plain": [
       "<Figure size 640x480 with 1 Axes>"
      ]
     },
     "metadata": {},
     "output_type": "display_data"
    }
   ],
   "source": [
    "# For regression results, it is also often helpfull to plot predictions vs true values\n",
    "import matplotlib.pyplot as plt\n",
    "plt.scatter(y_test, ypred)\n",
    "plt.plot([-100, 100], [-100, 100], alpha=.2)  # the closer the scatters point are to this line the better the fir\n",
    "plt.xlabel('true values')\n",
    "plt.ylabel('prediction')"
   ]
  },
  {
   "cell_type": "markdown",
   "metadata": {},
   "source": [
    "#### 3.12.5 Composition of steps and pipelines\n",
    "A huge advantage of the streamline [`sklearn` API](https://scikit-learn.org/stable/developers/develop.html) is the ease of use in composing more complicated classifiers and regressors consisting of multiple steps."
   ]
  },
  {
   "cell_type": "code",
   "execution_count": 37,
   "metadata": {},
   "outputs": [
    {
     "data": {
      "text/html": [
       "<style>#sk-container-id-3 {color: black;background-color: white;}#sk-container-id-3 pre{padding: 0;}#sk-container-id-3 div.sk-toggleable {background-color: white;}#sk-container-id-3 label.sk-toggleable__label {cursor: pointer;display: block;width: 100%;margin-bottom: 0;padding: 0.3em;box-sizing: border-box;text-align: center;}#sk-container-id-3 label.sk-toggleable__label-arrow:before {content: \"▸\";float: left;margin-right: 0.25em;color: #696969;}#sk-container-id-3 label.sk-toggleable__label-arrow:hover:before {color: black;}#sk-container-id-3 div.sk-estimator:hover label.sk-toggleable__label-arrow:before {color: black;}#sk-container-id-3 div.sk-toggleable__content {max-height: 0;max-width: 0;overflow: hidden;text-align: left;background-color: #f0f8ff;}#sk-container-id-3 div.sk-toggleable__content pre {margin: 0.2em;color: black;border-radius: 0.25em;background-color: #f0f8ff;}#sk-container-id-3 input.sk-toggleable__control:checked~div.sk-toggleable__content {max-height: 200px;max-width: 100%;overflow: auto;}#sk-container-id-3 input.sk-toggleable__control:checked~label.sk-toggleable__label-arrow:before {content: \"▾\";}#sk-container-id-3 div.sk-estimator input.sk-toggleable__control:checked~label.sk-toggleable__label {background-color: #d4ebff;}#sk-container-id-3 div.sk-label input.sk-toggleable__control:checked~label.sk-toggleable__label {background-color: #d4ebff;}#sk-container-id-3 input.sk-hidden--visually {border: 0;clip: rect(1px 1px 1px 1px);clip: rect(1px, 1px, 1px, 1px);height: 1px;margin: -1px;overflow: hidden;padding: 0;position: absolute;width: 1px;}#sk-container-id-3 div.sk-estimator {font-family: monospace;background-color: #f0f8ff;border: 1px dotted black;border-radius: 0.25em;box-sizing: border-box;margin-bottom: 0.5em;}#sk-container-id-3 div.sk-estimator:hover {background-color: #d4ebff;}#sk-container-id-3 div.sk-parallel-item::after {content: \"\";width: 100%;border-bottom: 1px solid gray;flex-grow: 1;}#sk-container-id-3 div.sk-label:hover label.sk-toggleable__label {background-color: #d4ebff;}#sk-container-id-3 div.sk-serial::before {content: \"\";position: absolute;border-left: 1px solid gray;box-sizing: border-box;top: 0;bottom: 0;left: 50%;z-index: 0;}#sk-container-id-3 div.sk-serial {display: flex;flex-direction: column;align-items: center;background-color: white;padding-right: 0.2em;padding-left: 0.2em;position: relative;}#sk-container-id-3 div.sk-item {position: relative;z-index: 1;}#sk-container-id-3 div.sk-parallel {display: flex;align-items: stretch;justify-content: center;background-color: white;position: relative;}#sk-container-id-3 div.sk-item::before, #sk-container-id-3 div.sk-parallel-item::before {content: \"\";position: absolute;border-left: 1px solid gray;box-sizing: border-box;top: 0;bottom: 0;left: 50%;z-index: -1;}#sk-container-id-3 div.sk-parallel-item {display: flex;flex-direction: column;z-index: 1;position: relative;background-color: white;}#sk-container-id-3 div.sk-parallel-item:first-child::after {align-self: flex-end;width: 50%;}#sk-container-id-3 div.sk-parallel-item:last-child::after {align-self: flex-start;width: 50%;}#sk-container-id-3 div.sk-parallel-item:only-child::after {width: 0;}#sk-container-id-3 div.sk-dashed-wrapped {border: 1px dashed gray;margin: 0 0.4em 0.5em 0.4em;box-sizing: border-box;padding-bottom: 0.4em;background-color: white;}#sk-container-id-3 div.sk-label label {font-family: monospace;font-weight: bold;display: inline-block;line-height: 1.2em;}#sk-container-id-3 div.sk-label-container {text-align: center;}#sk-container-id-3 div.sk-container {/* jupyter's `normalize.less` sets `[hidden] { display: none; }` but bootstrap.min.css set `[hidden] { display: none !important; }` so we also need the `!important` here to be able to override the default hidden behavior on the sphinx rendered scikit-learn.org. See: https://github.com/scikit-learn/scikit-learn/issues/21755 */display: inline-block !important;position: relative;}#sk-container-id-3 div.sk-text-repr-fallback {display: none;}</style><div id=\"sk-container-id-3\" class=\"sk-top-container\"><div class=\"sk-text-repr-fallback\"><pre>Pipeline(steps=[(&#x27;select&#x27;, SelectKBest(k=2)), (&#x27;clf&#x27;, LinearSVC())])</pre><b>In a Jupyter environment, please rerun this cell to show the HTML representation or trust the notebook. <br />On GitHub, the HTML representation is unable to render, please try loading this page with nbviewer.org.</b></div><div class=\"sk-container\" hidden><div class=\"sk-item sk-dashed-wrapped\"><div class=\"sk-label-container\"><div class=\"sk-label sk-toggleable\"><input class=\"sk-toggleable__control sk-hidden--visually\" id=\"sk-estimator-id-3\" type=\"checkbox\" ><label for=\"sk-estimator-id-3\" class=\"sk-toggleable__label sk-toggleable__label-arrow\">Pipeline</label><div class=\"sk-toggleable__content\"><pre>Pipeline(steps=[(&#x27;select&#x27;, SelectKBest(k=2)), (&#x27;clf&#x27;, LinearSVC())])</pre></div></div></div><div class=\"sk-serial\"><div class=\"sk-item\"><div class=\"sk-estimator sk-toggleable\"><input class=\"sk-toggleable__control sk-hidden--visually\" id=\"sk-estimator-id-4\" type=\"checkbox\" ><label for=\"sk-estimator-id-4\" class=\"sk-toggleable__label sk-toggleable__label-arrow\">SelectKBest</label><div class=\"sk-toggleable__content\"><pre>SelectKBest(k=2)</pre></div></div></div><div class=\"sk-item\"><div class=\"sk-estimator sk-toggleable\"><input class=\"sk-toggleable__control sk-hidden--visually\" id=\"sk-estimator-id-5\" type=\"checkbox\" ><label for=\"sk-estimator-id-5\" class=\"sk-toggleable__label sk-toggleable__label-arrow\">LinearSVC</label><div class=\"sk-toggleable__content\"><pre>LinearSVC()</pre></div></div></div></div></div></div></div>"
      ],
      "text/plain": [
       "Pipeline(steps=[('select', SelectKBest(k=2)), ('clf', LinearSVC())])"
      ]
     },
     "execution_count": 37,
     "metadata": {},
     "output_type": "execute_result"
    }
   ],
   "source": [
    "# Create another classification usecase\n",
    "X, y = make_classification(n_features=20, n_informative=3, n_redundant=0, n_classes=2, n_clusters_per_class=2,random_state=42,)\n",
    "X_train, X_test, y_train, y_test = train_test_split(X, y, random_state=42)\n",
    "\n",
    "# as given above, we only have 3 informative dimension, now lets add a preprocessing step\n",
    "# with a non-supervised selection algorithm (SelectKBest) and use the SVM classifier afterwards\n",
    "from sklearn.pipeline import Pipeline\n",
    "from sklearn.feature_selection import SelectKBest\n",
    "pipe = Pipeline(steps=[('select', SelectKBest(k=2)),\n",
    "                       ('clf', LinearSVC())])\n",
    "\n",
    "# instead of fitting just the classifier, we now fit the whole pipeline\n",
    "# Note: It needs labels as the last step (clf) is a supervised step. So also the whole pipeline is\n",
    "# considered a supervised model\n",
    "pipe.fit(X_train, y_train)"
   ]
  },
  {
   "cell_type": "code",
   "execution_count": 38,
   "metadata": {},
   "outputs": [
    {
     "name": "stdout",
     "output_type": "stream",
     "text": [
      "Model Pipeline(steps=[('select', SelectKBest(k=2)), ('clf', LinearSVC())]) achieved 76.00% test accuray\n",
      "Model LinearSVC() achieved 68.00% test accuray\n"
     ]
    }
   ],
   "source": [
    "# Lets predict and compare to the plain classifier\n",
    "acc_pl = accuracy_score(y_test, pipe.predict(X_test))\n",
    "print(f\"Model {pipe} achieved {acc_pl:.2%} test accuray\")\n",
    "acc = accuracy_score(y_test, clf.predict(X_test))\n",
    "print(f\"Model {clf} achieved {acc:.2%} test accuray\")"
   ]
  },
  {
   "cell_type": "markdown",
   "metadata": {},
   "source": [
    "## 4. References\n",
    "\n",
    "**Jupyter notebook**\n",
    "\n",
    "[Jupyter Notebooks Documentation](http://jupyter-notebook.readthedocs.io/en/latest/examples/Notebook/examples_index.html)\n",
    "\n",
    "[Beginners Guide](https://jupyter-notebook-beginner-guide.readthedocs.org/en/latest/what_is_jupyter.html)\n",
    "\n",
    "**Markdown**\n",
    "\n",
    "[Brief Markdown reference](http://www.markitdown.net/markdown)\n",
    "\n",
    "[Markdown specification basics](http://daringfireball.net/projects/markdown/)\n",
    "\n",
    "**Python**\n",
    "\n",
    "[Troubleshooting Guide for Python](https://github.com/MareinK/ru-ai-pacman/blob/master/1-python/troubleshooting.md)\n",
    "\n",
    "[Introduction Artificial Intelligence B Python Tutorial](https://github.com/MareinK/ru-ai-pacman/tree/master/1-python)\n",
    "\n",
    "[Beginner's Guide for non-programmers](https://wiki.python.org/moin/BeginnersGuide/NonProgrammers)\n",
    "\n",
    "[Codecademy interactive course](https://www.codecademy.com/learn/python)\n",
    "\n",
    "[Google Python Tutorial (for programmers)](https://developers.google.com/edu/python/)\n",
    "\n",
    "[Learn Python the Hard Way](http://learnpythonthehardway.org/)\n",
    "\n",
    "**Numpy**\n",
    "\n",
    "[Numpy Documentation](http://docs.scipy.org/doc/)\n",
    "\n",
    "[Scientific Python Cheat Sheet](https://ipgp.github.io/scientific_python_cheat_sheet/)\n",
    "\n",
    "[Numpy for Matlab Users](https://docs.scipy.org/doc/numpy-dev/user/numpy-for-matlab-users.html)\n",
    "\n",
    "[Gallery of good scientific Python notebooks](https://github.com/ipython/ipython/wiki/A-gallery-of-interesting-IPython-Notebooks)\n",
    "\n",
    "\n",
    "**Matplotlib**\n",
    "\n",
    "[xkcd style matplotlib gallery](http://matplotlib.org/xkcd/gallery.html)\n",
    "\n",
    "**Scikit-learn**\n",
    "\n",
    "[scikit-learn documentation](https://scikit-learn.org/stable/index.html)\n"
   ]
  },
  {
   "cell_type": "code",
   "execution_count": null,
   "metadata": {},
   "outputs": [],
   "source": []
  }
 ],
 "metadata": {
  "kernelspec": {
   "display_name": "Python 3 (ipykernel)",
   "language": "python",
   "name": "python3"
  },
  "language_info": {
   "codemirror_mode": {
    "name": "ipython",
    "version": 3
   },
   "file_extension": ".py",
   "mimetype": "text/x-python",
   "name": "python",
   "nbconvert_exporter": "python",
   "pygments_lexer": "ipython3",
   "version": "3.10.18"
  },
  "vscode": {
   "interpreter": {
    "hash": "bae39ce3edb1180dfc3794c6b6a6cb1354ac6855e2f7c16c3eda95d583036c65"
   }
  }
 },
 "nbformat": 4,
 "nbformat_minor": 4
}
